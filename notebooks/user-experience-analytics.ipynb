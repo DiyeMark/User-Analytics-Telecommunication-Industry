{
 "cells": [
  {
   "cell_type": "code",
   "execution_count": 2,
   "outputs": [],
   "source": [
    "import os\n",
    "import pandas as pd\n",
    "import numpy as np\n",
    "import matplotlib.pyplot as plt\n",
    "import seaborn as sns"
   ],
   "metadata": {
    "collapsed": false,
    "pycharm": {
     "name": "#%%\n"
    }
   }
  },
  {
   "cell_type": "code",
   "execution_count": 3,
   "outputs": [],
   "source": [
    "pwd = os.getcwd()\n",
    "path = os.path.join(pwd, os.pardir, 'data/clean_data.csv')"
   ],
   "metadata": {
    "collapsed": false,
    "pycharm": {
     "name": "#%%\n"
    }
   }
  },
  {
   "cell_type": "code",
   "execution_count": 4,
   "outputs": [
    {
     "data": {
      "text/plain": "      Bearer Id                Start  Start ms                  End  End ms  \\\n0  1.311448e+19  2019-04-04 12:01:00     770.0  2019-04-25 14:35:00   662.0   \n1  1.311448e+19  2019-04-09 13:04:00     235.0  2019-04-25 08:15:00   606.0   \n2  1.311448e+19  2019-04-09 17:42:00       1.0  2019-04-25 11:58:00   652.0   \n3  1.311448e+19  2019-04-10 00:31:00     486.0  2019-04-25 07:36:00   171.0   \n4  1.311448e+19  2019-04-12 20:10:00     565.0  2019-04-25 10:40:00   954.0   \n\n   Dur. (ms)          IMSI  MSISDN/Number          IMEI  \\\n0  1823652.0  2.082014e+14   3.366496e+10  3.552121e+13   \n1  1365104.0  2.082019e+14   3.368185e+10  3.579401e+13   \n2  1361762.0  2.082003e+14   3.376063e+10  3.528151e+13   \n3  1321509.0  2.082014e+14   3.375034e+10  3.535661e+13   \n4  1089009.0  2.082014e+14   3.369980e+10  3.540701e+13   \n\n      Last Location Name  ...  Youtube DL (Bytes)  Youtube UL (Bytes)  \\\n0  9.16456699548519E+015  ...          15854611.0           2501332.0   \n1                L77566A  ...          20247395.0          19111729.0   \n2                D42335A  ...          19725661.0          14699576.0   \n3                T21824A  ...          21388122.0          15146643.0   \n4                D88865A  ...          15259380.0          18962873.0   \n\n   Netflix DL (Bytes)  Netflix UL (Bytes)  Gaming DL (Bytes)  \\\n0           8198936.0           9656251.0        278082303.0   \n1          18338413.0          17227132.0        608750074.0   \n2          17587794.0           6163408.0        229584621.0   \n3          13994646.0           1097942.0        799538153.0   \n4          17124581.0            415218.0        527707248.0   \n\n   Gaming UL (Bytes)  Other DL (Bytes)  Other UL (Bytes)  Total UL (Bytes)  \\\n0         14344150.0       171744450.0         8814393.0        36749741.0   \n1          1170709.0       526904238.0        15055145.0        53800391.0   \n2           395630.0       410692588.0         4215763.0        27883638.0   \n3         10849722.0       749039933.0        12797283.0        43324218.0   \n4          3529801.0       550709500.0        13910322.0        38542814.0   \n\n   Total DL (Bytes)  \n0       308879636.0  \n1       653384965.0  \n2       279807335.0  \n3       846028530.0  \n4       569138589.0  \n\n[5 rows x 55 columns]",
      "text/html": "<div>\n<style scoped>\n    .dataframe tbody tr th:only-of-type {\n        vertical-align: middle;\n    }\n\n    .dataframe tbody tr th {\n        vertical-align: top;\n    }\n\n    .dataframe thead th {\n        text-align: right;\n    }\n</style>\n<table border=\"1\" class=\"dataframe\">\n  <thead>\n    <tr style=\"text-align: right;\">\n      <th></th>\n      <th>Bearer Id</th>\n      <th>Start</th>\n      <th>Start ms</th>\n      <th>End</th>\n      <th>End ms</th>\n      <th>Dur. (ms)</th>\n      <th>IMSI</th>\n      <th>MSISDN/Number</th>\n      <th>IMEI</th>\n      <th>Last Location Name</th>\n      <th>...</th>\n      <th>Youtube DL (Bytes)</th>\n      <th>Youtube UL (Bytes)</th>\n      <th>Netflix DL (Bytes)</th>\n      <th>Netflix UL (Bytes)</th>\n      <th>Gaming DL (Bytes)</th>\n      <th>Gaming UL (Bytes)</th>\n      <th>Other DL (Bytes)</th>\n      <th>Other UL (Bytes)</th>\n      <th>Total UL (Bytes)</th>\n      <th>Total DL (Bytes)</th>\n    </tr>\n  </thead>\n  <tbody>\n    <tr>\n      <th>0</th>\n      <td>1.311448e+19</td>\n      <td>2019-04-04 12:01:00</td>\n      <td>770.0</td>\n      <td>2019-04-25 14:35:00</td>\n      <td>662.0</td>\n      <td>1823652.0</td>\n      <td>2.082014e+14</td>\n      <td>3.366496e+10</td>\n      <td>3.552121e+13</td>\n      <td>9.16456699548519E+015</td>\n      <td>...</td>\n      <td>15854611.0</td>\n      <td>2501332.0</td>\n      <td>8198936.0</td>\n      <td>9656251.0</td>\n      <td>278082303.0</td>\n      <td>14344150.0</td>\n      <td>171744450.0</td>\n      <td>8814393.0</td>\n      <td>36749741.0</td>\n      <td>308879636.0</td>\n    </tr>\n    <tr>\n      <th>1</th>\n      <td>1.311448e+19</td>\n      <td>2019-04-09 13:04:00</td>\n      <td>235.0</td>\n      <td>2019-04-25 08:15:00</td>\n      <td>606.0</td>\n      <td>1365104.0</td>\n      <td>2.082019e+14</td>\n      <td>3.368185e+10</td>\n      <td>3.579401e+13</td>\n      <td>L77566A</td>\n      <td>...</td>\n      <td>20247395.0</td>\n      <td>19111729.0</td>\n      <td>18338413.0</td>\n      <td>17227132.0</td>\n      <td>608750074.0</td>\n      <td>1170709.0</td>\n      <td>526904238.0</td>\n      <td>15055145.0</td>\n      <td>53800391.0</td>\n      <td>653384965.0</td>\n    </tr>\n    <tr>\n      <th>2</th>\n      <td>1.311448e+19</td>\n      <td>2019-04-09 17:42:00</td>\n      <td>1.0</td>\n      <td>2019-04-25 11:58:00</td>\n      <td>652.0</td>\n      <td>1361762.0</td>\n      <td>2.082003e+14</td>\n      <td>3.376063e+10</td>\n      <td>3.528151e+13</td>\n      <td>D42335A</td>\n      <td>...</td>\n      <td>19725661.0</td>\n      <td>14699576.0</td>\n      <td>17587794.0</td>\n      <td>6163408.0</td>\n      <td>229584621.0</td>\n      <td>395630.0</td>\n      <td>410692588.0</td>\n      <td>4215763.0</td>\n      <td>27883638.0</td>\n      <td>279807335.0</td>\n    </tr>\n    <tr>\n      <th>3</th>\n      <td>1.311448e+19</td>\n      <td>2019-04-10 00:31:00</td>\n      <td>486.0</td>\n      <td>2019-04-25 07:36:00</td>\n      <td>171.0</td>\n      <td>1321509.0</td>\n      <td>2.082014e+14</td>\n      <td>3.375034e+10</td>\n      <td>3.535661e+13</td>\n      <td>T21824A</td>\n      <td>...</td>\n      <td>21388122.0</td>\n      <td>15146643.0</td>\n      <td>13994646.0</td>\n      <td>1097942.0</td>\n      <td>799538153.0</td>\n      <td>10849722.0</td>\n      <td>749039933.0</td>\n      <td>12797283.0</td>\n      <td>43324218.0</td>\n      <td>846028530.0</td>\n    </tr>\n    <tr>\n      <th>4</th>\n      <td>1.311448e+19</td>\n      <td>2019-04-12 20:10:00</td>\n      <td>565.0</td>\n      <td>2019-04-25 10:40:00</td>\n      <td>954.0</td>\n      <td>1089009.0</td>\n      <td>2.082014e+14</td>\n      <td>3.369980e+10</td>\n      <td>3.540701e+13</td>\n      <td>D88865A</td>\n      <td>...</td>\n      <td>15259380.0</td>\n      <td>18962873.0</td>\n      <td>17124581.0</td>\n      <td>415218.0</td>\n      <td>527707248.0</td>\n      <td>3529801.0</td>\n      <td>550709500.0</td>\n      <td>13910322.0</td>\n      <td>38542814.0</td>\n      <td>569138589.0</td>\n    </tr>\n  </tbody>\n</table>\n<p>5 rows × 55 columns</p>\n</div>"
     },
     "execution_count": 4,
     "metadata": {},
     "output_type": "execute_result"
    }
   ],
   "source": [
    "db = pd.read_csv(path)\n",
    "db.head()"
   ],
   "metadata": {
    "collapsed": false,
    "pycharm": {
     "name": "#%%\n"
    }
   }
  },
  {
   "cell_type": "code",
   "execution_count": 5,
   "outputs": [
    {
     "data": {
      "text/plain": "                                 Handset Type  Avg RTT DL (ms)  \\\nMSISDN/Number                                                    \n3.360100e+10   Huawei P20 Lite Huawei Nova 3E             46.0   \n3.360100e+10           Apple iPhone 7 (A1778)             30.0   \n3.360100e+10                          unknown            106.0   \n3.360101e+10          Apple iPhone 5S (A1457)             69.0   \n3.360101e+10          Apple iPhone Se (A1723)            114.0   \n\n               Avg RTT UL (ms)  Avg Bearer TP DL (kbps)  \\\nMSISDN/Number                                             \n3.360100e+10               0.0                     37.0   \n3.360100e+10               1.0                     48.0   \n3.360100e+10              18.0                     48.0   \n3.360101e+10              15.0                    204.0   \n3.360101e+10               5.0                  40395.0   \n\n               Avg Bearer TP UL (kbps)  TCP DL Retrans. Vol (Bytes)  \\\nMSISDN/Number                                                         \n3.360100e+10                      39.0                   21006809.0   \n3.360100e+10                      51.0                   21006809.0   \n3.360100e+10                      49.0                   21006809.0   \n3.360101e+10                      44.0                       1066.0   \n3.360101e+10                   16449.0                   30356439.0   \n\n               TCP UL Retrans. Vol (Bytes)  \nMSISDN/Number                               \n3.360100e+10                      771052.0  \n3.360100e+10                      771052.0  \n3.360100e+10                      771052.0  \n3.360101e+10                      771052.0  \n3.360101e+10                      792254.0  ",
      "text/html": "<div>\n<style scoped>\n    .dataframe tbody tr th:only-of-type {\n        vertical-align: middle;\n    }\n\n    .dataframe tbody tr th {\n        vertical-align: top;\n    }\n\n    .dataframe thead th {\n        text-align: right;\n    }\n</style>\n<table border=\"1\" class=\"dataframe\">\n  <thead>\n    <tr style=\"text-align: right;\">\n      <th></th>\n      <th>Handset Type</th>\n      <th>Avg RTT DL (ms)</th>\n      <th>Avg RTT UL (ms)</th>\n      <th>Avg Bearer TP DL (kbps)</th>\n      <th>Avg Bearer TP UL (kbps)</th>\n      <th>TCP DL Retrans. Vol (Bytes)</th>\n      <th>TCP UL Retrans. Vol (Bytes)</th>\n    </tr>\n    <tr>\n      <th>MSISDN/Number</th>\n      <th></th>\n      <th></th>\n      <th></th>\n      <th></th>\n      <th></th>\n      <th></th>\n      <th></th>\n    </tr>\n  </thead>\n  <tbody>\n    <tr>\n      <th>3.360100e+10</th>\n      <td>Huawei P20 Lite Huawei Nova 3E</td>\n      <td>46.0</td>\n      <td>0.0</td>\n      <td>37.0</td>\n      <td>39.0</td>\n      <td>21006809.0</td>\n      <td>771052.0</td>\n    </tr>\n    <tr>\n      <th>3.360100e+10</th>\n      <td>Apple iPhone 7 (A1778)</td>\n      <td>30.0</td>\n      <td>1.0</td>\n      <td>48.0</td>\n      <td>51.0</td>\n      <td>21006809.0</td>\n      <td>771052.0</td>\n    </tr>\n    <tr>\n      <th>3.360100e+10</th>\n      <td>unknown</td>\n      <td>106.0</td>\n      <td>18.0</td>\n      <td>48.0</td>\n      <td>49.0</td>\n      <td>21006809.0</td>\n      <td>771052.0</td>\n    </tr>\n    <tr>\n      <th>3.360101e+10</th>\n      <td>Apple iPhone 5S (A1457)</td>\n      <td>69.0</td>\n      <td>15.0</td>\n      <td>204.0</td>\n      <td>44.0</td>\n      <td>1066.0</td>\n      <td>771052.0</td>\n    </tr>\n    <tr>\n      <th>3.360101e+10</th>\n      <td>Apple iPhone Se (A1723)</td>\n      <td>114.0</td>\n      <td>5.0</td>\n      <td>40395.0</td>\n      <td>16449.0</td>\n      <td>30356439.0</td>\n      <td>792254.0</td>\n    </tr>\n  </tbody>\n</table>\n</div>"
     },
     "execution_count": 5,
     "metadata": {},
     "output_type": "execute_result"
    }
   ],
   "source": [
    "user_experience_db = db.groupby('MSISDN/Number').agg({\n",
    "    \"Handset Type\": \"first\",\n",
    "    \"Avg RTT DL (ms)\": \"sum\",\n",
    "    \"Avg RTT UL (ms)\": \"sum\",\n",
    "    \"Avg Bearer TP DL (kbps)\": \"sum\",\n",
    "    \"Avg Bearer TP UL (kbps)\": \"sum\",\n",
    "    \"TCP DL Retrans. Vol (Bytes)\": \"sum\",\n",
    "    \"TCP UL Retrans. Vol (Bytes)\": \"sum\",\n",
    "}).rename(columns={\n",
    "    \"Bearer Id\": \"Session Count\"\n",
    "})\n",
    "user_experience_db.head()"
   ],
   "metadata": {
    "collapsed": false,
    "pycharm": {
     "name": "#%%\n"
    }
   }
  },
  {
   "cell_type": "code",
   "execution_count": 6,
   "outputs": [],
   "source": [
    "user_experience_db['Average RTT (ms)'] = user_experience_db['Avg RTT DL (ms)'] + user_experience_db['Avg RTT UL (ms)']\n",
    "user_experience_db['Average TCP retransmission (Bytes)'] = user_experience_db['TCP DL Retrans. Vol (Bytes)'] + user_experience_db['TCP UL Retrans. Vol (Bytes)']\n",
    "user_experience_db['Average Throughput (kbps)'] = user_experience_db['Avg Bearer TP DL (kbps)'] + user_experience_db['Avg Bearer TP UL (kbps)']"
   ],
   "metadata": {
    "collapsed": false,
    "pycharm": {
     "name": "#%%\n"
    }
   }
  },
  {
   "cell_type": "code",
   "execution_count": 7,
   "outputs": [
    {
     "data": {
      "text/plain": "                                 Handset Type  Avg RTT DL (ms)  \\\nMSISDN/Number                                                    \n3.360100e+10   Huawei P20 Lite Huawei Nova 3E             46.0   \n3.360100e+10           Apple iPhone 7 (A1778)             30.0   \n3.360100e+10                          unknown            106.0   \n3.360101e+10          Apple iPhone 5S (A1457)             69.0   \n3.360101e+10          Apple iPhone Se (A1723)            114.0   \n\n               Avg RTT UL (ms)  Avg Bearer TP DL (kbps)  \\\nMSISDN/Number                                             \n3.360100e+10               0.0                     37.0   \n3.360100e+10               1.0                     48.0   \n3.360100e+10              18.0                     48.0   \n3.360101e+10              15.0                    204.0   \n3.360101e+10               5.0                  40395.0   \n\n               Avg Bearer TP UL (kbps)  TCP DL Retrans. Vol (Bytes)  \\\nMSISDN/Number                                                         \n3.360100e+10                      39.0                   21006809.0   \n3.360100e+10                      51.0                   21006809.0   \n3.360100e+10                      49.0                   21006809.0   \n3.360101e+10                      44.0                       1066.0   \n3.360101e+10                   16449.0                   30356439.0   \n\n               TCP UL Retrans. Vol (Bytes)  Average RTT (ms)  \\\nMSISDN/Number                                                  \n3.360100e+10                      771052.0              46.0   \n3.360100e+10                      771052.0              31.0   \n3.360100e+10                      771052.0             124.0   \n3.360101e+10                      771052.0              84.0   \n3.360101e+10                      792254.0             119.0   \n\n               Average TCP retransmission (Bytes)  Average Throughput (kbps)  \nMSISDN/Number                                                                 \n3.360100e+10                           21777861.0                       76.0  \n3.360100e+10                           21777861.0                       99.0  \n3.360100e+10                           21777861.0                       97.0  \n3.360101e+10                             772118.0                      248.0  \n3.360101e+10                           31148693.0                    56844.0  ",
      "text/html": "<div>\n<style scoped>\n    .dataframe tbody tr th:only-of-type {\n        vertical-align: middle;\n    }\n\n    .dataframe tbody tr th {\n        vertical-align: top;\n    }\n\n    .dataframe thead th {\n        text-align: right;\n    }\n</style>\n<table border=\"1\" class=\"dataframe\">\n  <thead>\n    <tr style=\"text-align: right;\">\n      <th></th>\n      <th>Handset Type</th>\n      <th>Avg RTT DL (ms)</th>\n      <th>Avg RTT UL (ms)</th>\n      <th>Avg Bearer TP DL (kbps)</th>\n      <th>Avg Bearer TP UL (kbps)</th>\n      <th>TCP DL Retrans. Vol (Bytes)</th>\n      <th>TCP UL Retrans. Vol (Bytes)</th>\n      <th>Average RTT (ms)</th>\n      <th>Average TCP retransmission (Bytes)</th>\n      <th>Average Throughput (kbps)</th>\n    </tr>\n    <tr>\n      <th>MSISDN/Number</th>\n      <th></th>\n      <th></th>\n      <th></th>\n      <th></th>\n      <th></th>\n      <th></th>\n      <th></th>\n      <th></th>\n      <th></th>\n      <th></th>\n    </tr>\n  </thead>\n  <tbody>\n    <tr>\n      <th>3.360100e+10</th>\n      <td>Huawei P20 Lite Huawei Nova 3E</td>\n      <td>46.0</td>\n      <td>0.0</td>\n      <td>37.0</td>\n      <td>39.0</td>\n      <td>21006809.0</td>\n      <td>771052.0</td>\n      <td>46.0</td>\n      <td>21777861.0</td>\n      <td>76.0</td>\n    </tr>\n    <tr>\n      <th>3.360100e+10</th>\n      <td>Apple iPhone 7 (A1778)</td>\n      <td>30.0</td>\n      <td>1.0</td>\n      <td>48.0</td>\n      <td>51.0</td>\n      <td>21006809.0</td>\n      <td>771052.0</td>\n      <td>31.0</td>\n      <td>21777861.0</td>\n      <td>99.0</td>\n    </tr>\n    <tr>\n      <th>3.360100e+10</th>\n      <td>unknown</td>\n      <td>106.0</td>\n      <td>18.0</td>\n      <td>48.0</td>\n      <td>49.0</td>\n      <td>21006809.0</td>\n      <td>771052.0</td>\n      <td>124.0</td>\n      <td>21777861.0</td>\n      <td>97.0</td>\n    </tr>\n    <tr>\n      <th>3.360101e+10</th>\n      <td>Apple iPhone 5S (A1457)</td>\n      <td>69.0</td>\n      <td>15.0</td>\n      <td>204.0</td>\n      <td>44.0</td>\n      <td>1066.0</td>\n      <td>771052.0</td>\n      <td>84.0</td>\n      <td>772118.0</td>\n      <td>248.0</td>\n    </tr>\n    <tr>\n      <th>3.360101e+10</th>\n      <td>Apple iPhone Se (A1723)</td>\n      <td>114.0</td>\n      <td>5.0</td>\n      <td>40395.0</td>\n      <td>16449.0</td>\n      <td>30356439.0</td>\n      <td>792254.0</td>\n      <td>119.0</td>\n      <td>31148693.0</td>\n      <td>56844.0</td>\n    </tr>\n  </tbody>\n</table>\n</div>"
     },
     "execution_count": 7,
     "metadata": {},
     "output_type": "execute_result"
    }
   ],
   "source": [
    "user_experience_db.head()"
   ],
   "metadata": {
    "collapsed": false,
    "pycharm": {
     "name": "#%%\n"
    }
   }
  },
  {
   "cell_type": "code",
   "execution_count": 8,
   "outputs": [
    {
     "data": {
      "text/plain": "                   Handset Type  Avg RTT DL (ms)  Avg RTT UL (ms)  \\\nMSISDN/Number                                                       \n3.366773e+10   Huawei B528S-23A            572.0            131.0   \n3.365908e+10   Huawei B528S-23A            281.0            115.0   \n3.366098e+10   Huawei B528S-23A            255.0            162.0   \n3.376128e+10   Huawei B528S-23A            313.0             38.0   \n3.376264e+10   Huawei B528S-23A           1411.0           1449.0   \n3.365066e+10   Huawei B528S-23A           1364.0            179.0   \n3.366318e+10   Huawei B528S-23A            486.0             97.0   \n3.366905e+10   Huawei B528S-23A            195.0            126.0   \n3.376357e+10   Huawei B528S-23A            427.0             52.0   \n3.365864e+10   Huawei B528S-23A            115.0             56.0   \n\n               Avg Bearer TP DL (kbps)  Avg Bearer TP UL (kbps)  \\\nMSISDN/Number                                                     \n3.366773e+10                  312316.0                  67397.0   \n3.365908e+10                  164449.0                  45810.0   \n3.366098e+10                  208133.0                   8719.0   \n3.376128e+10                   99351.0                  45219.0   \n3.376264e+10                  453489.0                  96172.0   \n3.365066e+10                  224292.0                  35256.0   \n3.366318e+10                  114022.0                  13581.0   \n3.366905e+10                  102759.0                  39283.0   \n3.376357e+10                  114004.0                   6284.0   \n3.365864e+10                   98839.0                   7036.0   \n\n               TCP DL Retrans. Vol (Bytes)  TCP UL Retrans. Vol (Bytes)  \\\nMSISDN/Number                                                             \n3.366773e+10                  8.332733e+09                 2.147633e+07   \n3.365908e+10                  7.938179e+09                 3.681679e+06   \n3.366098e+10                  7.374101e+09                 8.092740e+05   \n3.376128e+10                  6.039192e+09                 4.786675e+06   \n3.376264e+10                  5.878002e+09                 1.986547e+06   \n3.365066e+10                  5.590344e+09                 3.022140e+06   \n3.366318e+10                  5.562845e+09                 4.083422e+06   \n3.366905e+10                  2.663509e+07                 5.169358e+09   \n3.376357e+10                  5.178607e+09                 8.515830e+05   \n3.365864e+10                  5.165785e+09                 7.222300e+04   \n\n               Average RTT (ms)  Average TCP retransmission (Bytes)  \\\nMSISDN/Number                                                         \n3.366773e+10              703.0                        8.354209e+09   \n3.365908e+10              396.0                        7.941860e+09   \n3.366098e+10              417.0                        7.374910e+09   \n3.376128e+10              351.0                        6.043978e+09   \n3.376264e+10             2860.0                        5.879989e+09   \n3.365066e+10             1543.0                        5.593366e+09   \n3.366318e+10              583.0                        5.566929e+09   \n3.366905e+10              321.0                        5.195993e+09   \n3.376357e+10              479.0                        5.179459e+09   \n3.365864e+10              171.0                        5.165857e+09   \n\n               Average Throughput (kbps)  \nMSISDN/Number                             \n3.366773e+10                    379713.0  \n3.365908e+10                    210259.0  \n3.366098e+10                    216852.0  \n3.376128e+10                    144570.0  \n3.376264e+10                    549661.0  \n3.365066e+10                    259548.0  \n3.366318e+10                    127603.0  \n3.366905e+10                    142042.0  \n3.376357e+10                    120288.0  \n3.365864e+10                    105875.0  ",
      "text/html": "<div>\n<style scoped>\n    .dataframe tbody tr th:only-of-type {\n        vertical-align: middle;\n    }\n\n    .dataframe tbody tr th {\n        vertical-align: top;\n    }\n\n    .dataframe thead th {\n        text-align: right;\n    }\n</style>\n<table border=\"1\" class=\"dataframe\">\n  <thead>\n    <tr style=\"text-align: right;\">\n      <th></th>\n      <th>Handset Type</th>\n      <th>Avg RTT DL (ms)</th>\n      <th>Avg RTT UL (ms)</th>\n      <th>Avg Bearer TP DL (kbps)</th>\n      <th>Avg Bearer TP UL (kbps)</th>\n      <th>TCP DL Retrans. Vol (Bytes)</th>\n      <th>TCP UL Retrans. Vol (Bytes)</th>\n      <th>Average RTT (ms)</th>\n      <th>Average TCP retransmission (Bytes)</th>\n      <th>Average Throughput (kbps)</th>\n    </tr>\n    <tr>\n      <th>MSISDN/Number</th>\n      <th></th>\n      <th></th>\n      <th></th>\n      <th></th>\n      <th></th>\n      <th></th>\n      <th></th>\n      <th></th>\n      <th></th>\n      <th></th>\n    </tr>\n  </thead>\n  <tbody>\n    <tr>\n      <th>3.366773e+10</th>\n      <td>Huawei B528S-23A</td>\n      <td>572.0</td>\n      <td>131.0</td>\n      <td>312316.0</td>\n      <td>67397.0</td>\n      <td>8.332733e+09</td>\n      <td>2.147633e+07</td>\n      <td>703.0</td>\n      <td>8.354209e+09</td>\n      <td>379713.0</td>\n    </tr>\n    <tr>\n      <th>3.365908e+10</th>\n      <td>Huawei B528S-23A</td>\n      <td>281.0</td>\n      <td>115.0</td>\n      <td>164449.0</td>\n      <td>45810.0</td>\n      <td>7.938179e+09</td>\n      <td>3.681679e+06</td>\n      <td>396.0</td>\n      <td>7.941860e+09</td>\n      <td>210259.0</td>\n    </tr>\n    <tr>\n      <th>3.366098e+10</th>\n      <td>Huawei B528S-23A</td>\n      <td>255.0</td>\n      <td>162.0</td>\n      <td>208133.0</td>\n      <td>8719.0</td>\n      <td>7.374101e+09</td>\n      <td>8.092740e+05</td>\n      <td>417.0</td>\n      <td>7.374910e+09</td>\n      <td>216852.0</td>\n    </tr>\n    <tr>\n      <th>3.376128e+10</th>\n      <td>Huawei B528S-23A</td>\n      <td>313.0</td>\n      <td>38.0</td>\n      <td>99351.0</td>\n      <td>45219.0</td>\n      <td>6.039192e+09</td>\n      <td>4.786675e+06</td>\n      <td>351.0</td>\n      <td>6.043978e+09</td>\n      <td>144570.0</td>\n    </tr>\n    <tr>\n      <th>3.376264e+10</th>\n      <td>Huawei B528S-23A</td>\n      <td>1411.0</td>\n      <td>1449.0</td>\n      <td>453489.0</td>\n      <td>96172.0</td>\n      <td>5.878002e+09</td>\n      <td>1.986547e+06</td>\n      <td>2860.0</td>\n      <td>5.879989e+09</td>\n      <td>549661.0</td>\n    </tr>\n    <tr>\n      <th>3.365066e+10</th>\n      <td>Huawei B528S-23A</td>\n      <td>1364.0</td>\n      <td>179.0</td>\n      <td>224292.0</td>\n      <td>35256.0</td>\n      <td>5.590344e+09</td>\n      <td>3.022140e+06</td>\n      <td>1543.0</td>\n      <td>5.593366e+09</td>\n      <td>259548.0</td>\n    </tr>\n    <tr>\n      <th>3.366318e+10</th>\n      <td>Huawei B528S-23A</td>\n      <td>486.0</td>\n      <td>97.0</td>\n      <td>114022.0</td>\n      <td>13581.0</td>\n      <td>5.562845e+09</td>\n      <td>4.083422e+06</td>\n      <td>583.0</td>\n      <td>5.566929e+09</td>\n      <td>127603.0</td>\n    </tr>\n    <tr>\n      <th>3.366905e+10</th>\n      <td>Huawei B528S-23A</td>\n      <td>195.0</td>\n      <td>126.0</td>\n      <td>102759.0</td>\n      <td>39283.0</td>\n      <td>2.663509e+07</td>\n      <td>5.169358e+09</td>\n      <td>321.0</td>\n      <td>5.195993e+09</td>\n      <td>142042.0</td>\n    </tr>\n    <tr>\n      <th>3.376357e+10</th>\n      <td>Huawei B528S-23A</td>\n      <td>427.0</td>\n      <td>52.0</td>\n      <td>114004.0</td>\n      <td>6284.0</td>\n      <td>5.178607e+09</td>\n      <td>8.515830e+05</td>\n      <td>479.0</td>\n      <td>5.179459e+09</td>\n      <td>120288.0</td>\n    </tr>\n    <tr>\n      <th>3.365864e+10</th>\n      <td>Huawei B528S-23A</td>\n      <td>115.0</td>\n      <td>56.0</td>\n      <td>98839.0</td>\n      <td>7036.0</td>\n      <td>5.165785e+09</td>\n      <td>7.222300e+04</td>\n      <td>171.0</td>\n      <td>5.165857e+09</td>\n      <td>105875.0</td>\n    </tr>\n  </tbody>\n</table>\n</div>"
     },
     "execution_count": 8,
     "metadata": {},
     "output_type": "execute_result"
    }
   ],
   "source": [
    "user_experience_db.nlargest(n=10, columns='Average TCP retransmission (Bytes)')"
   ],
   "metadata": {
    "collapsed": false,
    "pycharm": {
     "name": "#%%\n"
    }
   }
  },
  {
   "cell_type": "code",
   "execution_count": 9,
   "outputs": [
    {
     "data": {
      "text/plain": "                                         Handset Type  Avg RTT DL (ms)  \\\nMSISDN/Number                                                            \n3.365013e+10                  Apple iPhone 5S (A1457)             46.0   \n3.361478e+10                      Huawei Ascend Mate7             39.0   \n3.376206e+10                   Apple iPhone 8 (A1905)             39.0   \n3.362636e+10                   Apple iPhone 7 (A1778)             34.0   \n3.360783e+10                  Apple iPhone 5C (A1529)             29.0   \n3.365068e+10                Xiaomi Communica. Mi Max3             26.0   \n3.376964e+10                  Apple iPhone 5S (A1457)             31.0   \n3.378420e+10                  Apple iPhone Xr (A2108)             33.0   \n3.367937e+10         Samsung Galaxy S6 Plus (Sm-G928)             33.0   \n3.369969e+10   Samsung Galaxy Trend Lite 2 (Sm-G318X)            159.0   \n\n               Avg RTT UL (ms)  Avg Bearer TP DL (kbps)  \\\nMSISDN/Number                                             \n3.365013e+10               2.0                  30230.0   \n3.361478e+10              25.0                   8498.0   \n3.376206e+10               2.0                  31540.0   \n3.362636e+10               6.0                  10128.0   \n3.360783e+10               3.0                  16242.0   \n3.365068e+10              26.0                   6581.0   \n3.376964e+10               1.0                  11982.0   \n3.378420e+10              41.0                   5521.0   \n3.367937e+10               6.0                  33894.0   \n3.369969e+10              10.0                     91.0   \n\n               Avg Bearer TP UL (kbps)  TCP DL Retrans. Vol (Bytes)  \\\nMSISDN/Number                                                         \n3.365013e+10                     351.0                         51.0   \n3.361478e+10                     156.0                         86.0   \n3.376206e+10                    1037.0                         38.0   \n3.362636e+10                     836.0                         92.0   \n3.360783e+10                     611.0                         62.0   \n3.365068e+10                     458.0                        138.0   \n3.376964e+10                     228.0                        114.0   \n3.378420e+10                     376.0                         74.0   \n3.367937e+10                    1174.0                        128.0   \n3.369969e+10                      78.0                         74.0   \n\n               TCP UL Retrans. Vol (Bytes)  Average RTT (ms)  \\\nMSISDN/Number                                                  \n3.365013e+10                          46.0              48.0   \n3.361478e+10                          42.0              64.0   \n3.376206e+10                          91.0              41.0   \n3.362636e+10                          42.0              40.0   \n3.360783e+10                          81.0              32.0   \n3.365068e+10                          38.0              52.0   \n3.376964e+10                          62.0              32.0   \n3.378420e+10                         103.0              74.0   \n3.367937e+10                          51.0              39.0   \n3.369969e+10                         108.0             169.0   \n\n               Average TCP retransmission (Bytes)  Average Throughput (kbps)  \nMSISDN/Number                                                                 \n3.365013e+10                                 97.0                    30581.0  \n3.361478e+10                                128.0                     8654.0  \n3.376206e+10                                129.0                    32577.0  \n3.362636e+10                                134.0                    10964.0  \n3.360783e+10                                143.0                    16853.0  \n3.365068e+10                                176.0                     7039.0  \n3.376964e+10                                176.0                    12210.0  \n3.378420e+10                                177.0                     5897.0  \n3.367937e+10                                179.0                    35068.0  \n3.369969e+10                                182.0                      169.0  ",
      "text/html": "<div>\n<style scoped>\n    .dataframe tbody tr th:only-of-type {\n        vertical-align: middle;\n    }\n\n    .dataframe tbody tr th {\n        vertical-align: top;\n    }\n\n    .dataframe thead th {\n        text-align: right;\n    }\n</style>\n<table border=\"1\" class=\"dataframe\">\n  <thead>\n    <tr style=\"text-align: right;\">\n      <th></th>\n      <th>Handset Type</th>\n      <th>Avg RTT DL (ms)</th>\n      <th>Avg RTT UL (ms)</th>\n      <th>Avg Bearer TP DL (kbps)</th>\n      <th>Avg Bearer TP UL (kbps)</th>\n      <th>TCP DL Retrans. Vol (Bytes)</th>\n      <th>TCP UL Retrans. Vol (Bytes)</th>\n      <th>Average RTT (ms)</th>\n      <th>Average TCP retransmission (Bytes)</th>\n      <th>Average Throughput (kbps)</th>\n    </tr>\n    <tr>\n      <th>MSISDN/Number</th>\n      <th></th>\n      <th></th>\n      <th></th>\n      <th></th>\n      <th></th>\n      <th></th>\n      <th></th>\n      <th></th>\n      <th></th>\n      <th></th>\n    </tr>\n  </thead>\n  <tbody>\n    <tr>\n      <th>3.365013e+10</th>\n      <td>Apple iPhone 5S (A1457)</td>\n      <td>46.0</td>\n      <td>2.0</td>\n      <td>30230.0</td>\n      <td>351.0</td>\n      <td>51.0</td>\n      <td>46.0</td>\n      <td>48.0</td>\n      <td>97.0</td>\n      <td>30581.0</td>\n    </tr>\n    <tr>\n      <th>3.361478e+10</th>\n      <td>Huawei Ascend Mate7</td>\n      <td>39.0</td>\n      <td>25.0</td>\n      <td>8498.0</td>\n      <td>156.0</td>\n      <td>86.0</td>\n      <td>42.0</td>\n      <td>64.0</td>\n      <td>128.0</td>\n      <td>8654.0</td>\n    </tr>\n    <tr>\n      <th>3.376206e+10</th>\n      <td>Apple iPhone 8 (A1905)</td>\n      <td>39.0</td>\n      <td>2.0</td>\n      <td>31540.0</td>\n      <td>1037.0</td>\n      <td>38.0</td>\n      <td>91.0</td>\n      <td>41.0</td>\n      <td>129.0</td>\n      <td>32577.0</td>\n    </tr>\n    <tr>\n      <th>3.362636e+10</th>\n      <td>Apple iPhone 7 (A1778)</td>\n      <td>34.0</td>\n      <td>6.0</td>\n      <td>10128.0</td>\n      <td>836.0</td>\n      <td>92.0</td>\n      <td>42.0</td>\n      <td>40.0</td>\n      <td>134.0</td>\n      <td>10964.0</td>\n    </tr>\n    <tr>\n      <th>3.360783e+10</th>\n      <td>Apple iPhone 5C (A1529)</td>\n      <td>29.0</td>\n      <td>3.0</td>\n      <td>16242.0</td>\n      <td>611.0</td>\n      <td>62.0</td>\n      <td>81.0</td>\n      <td>32.0</td>\n      <td>143.0</td>\n      <td>16853.0</td>\n    </tr>\n    <tr>\n      <th>3.365068e+10</th>\n      <td>Xiaomi Communica. Mi Max3</td>\n      <td>26.0</td>\n      <td>26.0</td>\n      <td>6581.0</td>\n      <td>458.0</td>\n      <td>138.0</td>\n      <td>38.0</td>\n      <td>52.0</td>\n      <td>176.0</td>\n      <td>7039.0</td>\n    </tr>\n    <tr>\n      <th>3.376964e+10</th>\n      <td>Apple iPhone 5S (A1457)</td>\n      <td>31.0</td>\n      <td>1.0</td>\n      <td>11982.0</td>\n      <td>228.0</td>\n      <td>114.0</td>\n      <td>62.0</td>\n      <td>32.0</td>\n      <td>176.0</td>\n      <td>12210.0</td>\n    </tr>\n    <tr>\n      <th>3.378420e+10</th>\n      <td>Apple iPhone Xr (A2108)</td>\n      <td>33.0</td>\n      <td>41.0</td>\n      <td>5521.0</td>\n      <td>376.0</td>\n      <td>74.0</td>\n      <td>103.0</td>\n      <td>74.0</td>\n      <td>177.0</td>\n      <td>5897.0</td>\n    </tr>\n    <tr>\n      <th>3.367937e+10</th>\n      <td>Samsung Galaxy S6 Plus (Sm-G928)</td>\n      <td>33.0</td>\n      <td>6.0</td>\n      <td>33894.0</td>\n      <td>1174.0</td>\n      <td>128.0</td>\n      <td>51.0</td>\n      <td>39.0</td>\n      <td>179.0</td>\n      <td>35068.0</td>\n    </tr>\n    <tr>\n      <th>3.369969e+10</th>\n      <td>Samsung Galaxy Trend Lite 2 (Sm-G318X)</td>\n      <td>159.0</td>\n      <td>10.0</td>\n      <td>91.0</td>\n      <td>78.0</td>\n      <td>74.0</td>\n      <td>108.0</td>\n      <td>169.0</td>\n      <td>182.0</td>\n      <td>169.0</td>\n    </tr>\n  </tbody>\n</table>\n</div>"
     },
     "execution_count": 9,
     "metadata": {},
     "output_type": "execute_result"
    }
   ],
   "source": [
    "user_experience_db.nsmallest(n=10, columns='Average TCP retransmission (Bytes)')"
   ],
   "metadata": {
    "collapsed": false,
    "pycharm": {
     "name": "#%%\n"
    }
   }
  },
  {
   "cell_type": "code",
   "execution_count": 10,
   "outputs": [
    {
     "data": {
      "text/plain": "Average TCP retransmission (Bytes)\n21777861.0                            47122\n43555722.0                             7468\n65333583.0                             1032\n21008103.0                              363\n87111444.0                              252\n21008139.0                              164\n772382.0                                144\n42785964.0                               82\n21008127.0                               81\n771144.0                                 76\ndtype: int64"
     },
     "execution_count": 10,
     "metadata": {},
     "output_type": "execute_result"
    }
   ],
   "source": [
    "user_experience_db.value_counts(subset=['Average TCP retransmission (Bytes)'])[:10]"
   ],
   "metadata": {
    "collapsed": false,
    "pycharm": {
     "name": "#%%\n"
    }
   }
  },
  {
   "cell_type": "code",
   "execution_count": 11,
   "outputs": [
    {
     "data": {
      "text/plain": "                                    Handset Type  Avg RTT DL (ms)  \\\nMSISDN/Number                                                       \n3.366232e+10              Apple iPhone 8 (A1905)          96923.0   \n3.366087e+10              Apple iPhone 6 (A1586)          64666.0   \n3.368369e+10                          Lg Lg-D315          54847.0   \n3.369855e+10                    Huawei B528S-23A          45923.0   \n3.376181e+10                    Huawei B528S-23A          36977.0   \n3.366879e+10                    Huawei B528S-23A          36125.0   \n3.376094e+10   Samsung Galaxy S7 Edge (Sm-G935X)          26971.0   \n3.360679e+10   Samsung Galaxy S9 Plus (Sm-G965F)          26250.0   \n3.367182e+10   Samsung Galaxy S6 Edge (Sm-G925X)          25602.0   \n3.378187e+10             Apple iPhone 6S (A1688)          25374.0   \n\n               Avg RTT UL (ms)  Avg Bearer TP DL (kbps)  \\\nMSISDN/Number                                             \n3.366232e+10               1.0                      1.0   \n3.366087e+10               4.0                     87.0   \n3.368369e+10               1.0                     12.0   \n3.369855e+10              98.0                     85.0   \n3.376181e+10             107.0                  11976.0   \n3.366879e+10             179.0                     99.0   \n3.376094e+10             307.0                   3778.0   \n3.360679e+10              50.0                    124.0   \n3.367182e+10             113.0                      5.0   \n3.378187e+10              14.0                    885.0   \n\n               Avg Bearer TP UL (kbps)  TCP DL Retrans. Vol (Bytes)  \\\nMSISDN/Number                                                         \n3.366232e+10                       2.0                   21006809.0   \n3.366087e+10                     107.0                   42013618.0   \n3.368369e+10                       9.0                         92.0   \n3.369855e+10                     218.0                   21012129.0   \n3.376181e+10                    9224.0                   21029692.0   \n3.366879e+10                       9.0                   42013618.0   \n3.376094e+10                    1370.0                     522969.0   \n3.360679e+10                      20.0                      13300.0   \n3.367182e+10                      66.0                   21006809.0   \n3.378187e+10                     723.0                     197268.0   \n\n               TCP UL Retrans. Vol (Bytes)  Average RTT (ms)  \\\nMSISDN/Number                                                  \n3.366232e+10                      771052.0           96924.0   \n3.366087e+10                     1542104.0           64670.0   \n3.368369e+10                      771052.0           54848.0   \n3.369855e+10                       10319.0           46021.0   \n3.376181e+10                       53402.0           37084.0   \n3.366879e+10                     1542104.0           36304.0   \n3.376094e+10                       17613.0           27278.0   \n3.360679e+10                      771052.0           26300.0   \n3.367182e+10                        5320.0           25715.0   \n3.378187e+10                        2636.0           25388.0   \n\n               Average TCP retransmission (Bytes)  Average Throughput (kbps)  \nMSISDN/Number                                                                 \n3.366232e+10                           21777861.0                        3.0  \n3.366087e+10                           43555722.0                      194.0  \n3.368369e+10                             771144.0                       21.0  \n3.369855e+10                           21022448.0                      303.0  \n3.376181e+10                           21083094.0                    21200.0  \n3.366879e+10                           43555722.0                      108.0  \n3.376094e+10                             540582.0                     5148.0  \n3.360679e+10                             784352.0                      144.0  \n3.367182e+10                           21012129.0                       71.0  \n3.378187e+10                             199904.0                     1608.0  ",
      "text/html": "<div>\n<style scoped>\n    .dataframe tbody tr th:only-of-type {\n        vertical-align: middle;\n    }\n\n    .dataframe tbody tr th {\n        vertical-align: top;\n    }\n\n    .dataframe thead th {\n        text-align: right;\n    }\n</style>\n<table border=\"1\" class=\"dataframe\">\n  <thead>\n    <tr style=\"text-align: right;\">\n      <th></th>\n      <th>Handset Type</th>\n      <th>Avg RTT DL (ms)</th>\n      <th>Avg RTT UL (ms)</th>\n      <th>Avg Bearer TP DL (kbps)</th>\n      <th>Avg Bearer TP UL (kbps)</th>\n      <th>TCP DL Retrans. Vol (Bytes)</th>\n      <th>TCP UL Retrans. Vol (Bytes)</th>\n      <th>Average RTT (ms)</th>\n      <th>Average TCP retransmission (Bytes)</th>\n      <th>Average Throughput (kbps)</th>\n    </tr>\n    <tr>\n      <th>MSISDN/Number</th>\n      <th></th>\n      <th></th>\n      <th></th>\n      <th></th>\n      <th></th>\n      <th></th>\n      <th></th>\n      <th></th>\n      <th></th>\n      <th></th>\n    </tr>\n  </thead>\n  <tbody>\n    <tr>\n      <th>3.366232e+10</th>\n      <td>Apple iPhone 8 (A1905)</td>\n      <td>96923.0</td>\n      <td>1.0</td>\n      <td>1.0</td>\n      <td>2.0</td>\n      <td>21006809.0</td>\n      <td>771052.0</td>\n      <td>96924.0</td>\n      <td>21777861.0</td>\n      <td>3.0</td>\n    </tr>\n    <tr>\n      <th>3.366087e+10</th>\n      <td>Apple iPhone 6 (A1586)</td>\n      <td>64666.0</td>\n      <td>4.0</td>\n      <td>87.0</td>\n      <td>107.0</td>\n      <td>42013618.0</td>\n      <td>1542104.0</td>\n      <td>64670.0</td>\n      <td>43555722.0</td>\n      <td>194.0</td>\n    </tr>\n    <tr>\n      <th>3.368369e+10</th>\n      <td>Lg Lg-D315</td>\n      <td>54847.0</td>\n      <td>1.0</td>\n      <td>12.0</td>\n      <td>9.0</td>\n      <td>92.0</td>\n      <td>771052.0</td>\n      <td>54848.0</td>\n      <td>771144.0</td>\n      <td>21.0</td>\n    </tr>\n    <tr>\n      <th>3.369855e+10</th>\n      <td>Huawei B528S-23A</td>\n      <td>45923.0</td>\n      <td>98.0</td>\n      <td>85.0</td>\n      <td>218.0</td>\n      <td>21012129.0</td>\n      <td>10319.0</td>\n      <td>46021.0</td>\n      <td>21022448.0</td>\n      <td>303.0</td>\n    </tr>\n    <tr>\n      <th>3.376181e+10</th>\n      <td>Huawei B528S-23A</td>\n      <td>36977.0</td>\n      <td>107.0</td>\n      <td>11976.0</td>\n      <td>9224.0</td>\n      <td>21029692.0</td>\n      <td>53402.0</td>\n      <td>37084.0</td>\n      <td>21083094.0</td>\n      <td>21200.0</td>\n    </tr>\n    <tr>\n      <th>3.366879e+10</th>\n      <td>Huawei B528S-23A</td>\n      <td>36125.0</td>\n      <td>179.0</td>\n      <td>99.0</td>\n      <td>9.0</td>\n      <td>42013618.0</td>\n      <td>1542104.0</td>\n      <td>36304.0</td>\n      <td>43555722.0</td>\n      <td>108.0</td>\n    </tr>\n    <tr>\n      <th>3.376094e+10</th>\n      <td>Samsung Galaxy S7 Edge (Sm-G935X)</td>\n      <td>26971.0</td>\n      <td>307.0</td>\n      <td>3778.0</td>\n      <td>1370.0</td>\n      <td>522969.0</td>\n      <td>17613.0</td>\n      <td>27278.0</td>\n      <td>540582.0</td>\n      <td>5148.0</td>\n    </tr>\n    <tr>\n      <th>3.360679e+10</th>\n      <td>Samsung Galaxy S9 Plus (Sm-G965F)</td>\n      <td>26250.0</td>\n      <td>50.0</td>\n      <td>124.0</td>\n      <td>20.0</td>\n      <td>13300.0</td>\n      <td>771052.0</td>\n      <td>26300.0</td>\n      <td>784352.0</td>\n      <td>144.0</td>\n    </tr>\n    <tr>\n      <th>3.367182e+10</th>\n      <td>Samsung Galaxy S6 Edge (Sm-G925X)</td>\n      <td>25602.0</td>\n      <td>113.0</td>\n      <td>5.0</td>\n      <td>66.0</td>\n      <td>21006809.0</td>\n      <td>5320.0</td>\n      <td>25715.0</td>\n      <td>21012129.0</td>\n      <td>71.0</td>\n    </tr>\n    <tr>\n      <th>3.378187e+10</th>\n      <td>Apple iPhone 6S (A1688)</td>\n      <td>25374.0</td>\n      <td>14.0</td>\n      <td>885.0</td>\n      <td>723.0</td>\n      <td>197268.0</td>\n      <td>2636.0</td>\n      <td>25388.0</td>\n      <td>199904.0</td>\n      <td>1608.0</td>\n    </tr>\n  </tbody>\n</table>\n</div>"
     },
     "execution_count": 11,
     "metadata": {},
     "output_type": "execute_result"
    }
   ],
   "source": [
    "user_experience_db.nlargest(n=10, columns='Average RTT (ms)')"
   ],
   "metadata": {
    "collapsed": false,
    "pycharm": {
     "name": "#%%\n"
    }
   }
  },
  {
   "cell_type": "code",
   "execution_count": 12,
   "outputs": [
    {
     "data": {
      "text/plain": "                                    Handset Type  Avg RTT DL (ms)  \\\nMSISDN/Number                                                       \n3.365298e+10                      Huawei P20 Pro              0.0   \n3.366158e+10                      Huawei Pct-L29              0.0   \n3.366020e+10              Apple iPhone X (A1901)              2.0   \n3.369505e+10                          Huawei P20              4.0   \n3.365949e+10             Apple iPhone 6S (A1688)              5.0   \n3.366862e+10             Apple iPhone 6S (A1688)              6.0   \n3.364768e+10                 Huawei Honor View10              8.0   \n3.361085e+10   Samsung Galaxy S6 Edge (Sm-G925X)              9.0   \n3.367220e+10      Huawei P20 Lite Huawei Nova 3E              9.0   \n3.363468e+10      Huawei P20 Lite Huawei Nova 3E              9.0   \n\n               Avg RTT UL (ms)  Avg Bearer TP DL (kbps)  \\\nMSISDN/Number                                             \n3.365298e+10               0.0                     52.0   \n3.366158e+10               0.0                     38.0   \n3.366020e+10               0.0                     46.0   \n3.369505e+10               0.0                     66.0   \n3.365949e+10               0.0                     23.0   \n3.366862e+10               0.0                     46.0   \n3.364768e+10               0.0                     63.0   \n3.361085e+10               0.0                     59.0   \n3.367220e+10               0.0                     44.0   \n3.363468e+10               1.0                     45.0   \n\n               Avg Bearer TP UL (kbps)  TCP DL Retrans. Vol (Bytes)  \\\nMSISDN/Number                                                         \n3.365298e+10                      48.0                   21006809.0   \n3.366158e+10                      47.0                   21006809.0   \n3.366020e+10                      67.0                   21006809.0   \n3.369505e+10                      55.0                   21006809.0   \n3.365949e+10                      55.0                   21006809.0   \n3.366862e+10                      55.0                   21006809.0   \n3.364768e+10                      47.0                   21006809.0   \n3.361085e+10                      54.0                   21006809.0   \n3.367220e+10                      47.0                   21006809.0   \n3.363468e+10                      48.0                   21006809.0   \n\n               TCP UL Retrans. Vol (Bytes)  Average RTT (ms)  \\\nMSISDN/Number                                                  \n3.365298e+10                      771052.0               0.0   \n3.366158e+10                      771052.0               0.0   \n3.366020e+10                      771052.0               2.0   \n3.369505e+10                      771052.0               4.0   \n3.365949e+10                      771052.0               5.0   \n3.366862e+10                      771052.0               6.0   \n3.364768e+10                      771052.0               8.0   \n3.361085e+10                      771052.0               9.0   \n3.367220e+10                      771052.0               9.0   \n3.363468e+10                      771052.0              10.0   \n\n               Average TCP retransmission (Bytes)  Average Throughput (kbps)  \nMSISDN/Number                                                                 \n3.365298e+10                           21777861.0                      100.0  \n3.366158e+10                           21777861.0                       85.0  \n3.366020e+10                           21777861.0                      113.0  \n3.369505e+10                           21777861.0                      121.0  \n3.365949e+10                           21777861.0                       78.0  \n3.366862e+10                           21777861.0                      101.0  \n3.364768e+10                           21777861.0                      110.0  \n3.361085e+10                           21777861.0                      113.0  \n3.367220e+10                           21777861.0                       91.0  \n3.363468e+10                           21777861.0                       93.0  ",
      "text/html": "<div>\n<style scoped>\n    .dataframe tbody tr th:only-of-type {\n        vertical-align: middle;\n    }\n\n    .dataframe tbody tr th {\n        vertical-align: top;\n    }\n\n    .dataframe thead th {\n        text-align: right;\n    }\n</style>\n<table border=\"1\" class=\"dataframe\">\n  <thead>\n    <tr style=\"text-align: right;\">\n      <th></th>\n      <th>Handset Type</th>\n      <th>Avg RTT DL (ms)</th>\n      <th>Avg RTT UL (ms)</th>\n      <th>Avg Bearer TP DL (kbps)</th>\n      <th>Avg Bearer TP UL (kbps)</th>\n      <th>TCP DL Retrans. Vol (Bytes)</th>\n      <th>TCP UL Retrans. Vol (Bytes)</th>\n      <th>Average RTT (ms)</th>\n      <th>Average TCP retransmission (Bytes)</th>\n      <th>Average Throughput (kbps)</th>\n    </tr>\n    <tr>\n      <th>MSISDN/Number</th>\n      <th></th>\n      <th></th>\n      <th></th>\n      <th></th>\n      <th></th>\n      <th></th>\n      <th></th>\n      <th></th>\n      <th></th>\n      <th></th>\n    </tr>\n  </thead>\n  <tbody>\n    <tr>\n      <th>3.365298e+10</th>\n      <td>Huawei P20 Pro</td>\n      <td>0.0</td>\n      <td>0.0</td>\n      <td>52.0</td>\n      <td>48.0</td>\n      <td>21006809.0</td>\n      <td>771052.0</td>\n      <td>0.0</td>\n      <td>21777861.0</td>\n      <td>100.0</td>\n    </tr>\n    <tr>\n      <th>3.366158e+10</th>\n      <td>Huawei Pct-L29</td>\n      <td>0.0</td>\n      <td>0.0</td>\n      <td>38.0</td>\n      <td>47.0</td>\n      <td>21006809.0</td>\n      <td>771052.0</td>\n      <td>0.0</td>\n      <td>21777861.0</td>\n      <td>85.0</td>\n    </tr>\n    <tr>\n      <th>3.366020e+10</th>\n      <td>Apple iPhone X (A1901)</td>\n      <td>2.0</td>\n      <td>0.0</td>\n      <td>46.0</td>\n      <td>67.0</td>\n      <td>21006809.0</td>\n      <td>771052.0</td>\n      <td>2.0</td>\n      <td>21777861.0</td>\n      <td>113.0</td>\n    </tr>\n    <tr>\n      <th>3.369505e+10</th>\n      <td>Huawei P20</td>\n      <td>4.0</td>\n      <td>0.0</td>\n      <td>66.0</td>\n      <td>55.0</td>\n      <td>21006809.0</td>\n      <td>771052.0</td>\n      <td>4.0</td>\n      <td>21777861.0</td>\n      <td>121.0</td>\n    </tr>\n    <tr>\n      <th>3.365949e+10</th>\n      <td>Apple iPhone 6S (A1688)</td>\n      <td>5.0</td>\n      <td>0.0</td>\n      <td>23.0</td>\n      <td>55.0</td>\n      <td>21006809.0</td>\n      <td>771052.0</td>\n      <td>5.0</td>\n      <td>21777861.0</td>\n      <td>78.0</td>\n    </tr>\n    <tr>\n      <th>3.366862e+10</th>\n      <td>Apple iPhone 6S (A1688)</td>\n      <td>6.0</td>\n      <td>0.0</td>\n      <td>46.0</td>\n      <td>55.0</td>\n      <td>21006809.0</td>\n      <td>771052.0</td>\n      <td>6.0</td>\n      <td>21777861.0</td>\n      <td>101.0</td>\n    </tr>\n    <tr>\n      <th>3.364768e+10</th>\n      <td>Huawei Honor View10</td>\n      <td>8.0</td>\n      <td>0.0</td>\n      <td>63.0</td>\n      <td>47.0</td>\n      <td>21006809.0</td>\n      <td>771052.0</td>\n      <td>8.0</td>\n      <td>21777861.0</td>\n      <td>110.0</td>\n    </tr>\n    <tr>\n      <th>3.361085e+10</th>\n      <td>Samsung Galaxy S6 Edge (Sm-G925X)</td>\n      <td>9.0</td>\n      <td>0.0</td>\n      <td>59.0</td>\n      <td>54.0</td>\n      <td>21006809.0</td>\n      <td>771052.0</td>\n      <td>9.0</td>\n      <td>21777861.0</td>\n      <td>113.0</td>\n    </tr>\n    <tr>\n      <th>3.367220e+10</th>\n      <td>Huawei P20 Lite Huawei Nova 3E</td>\n      <td>9.0</td>\n      <td>0.0</td>\n      <td>44.0</td>\n      <td>47.0</td>\n      <td>21006809.0</td>\n      <td>771052.0</td>\n      <td>9.0</td>\n      <td>21777861.0</td>\n      <td>91.0</td>\n    </tr>\n    <tr>\n      <th>3.363468e+10</th>\n      <td>Huawei P20 Lite Huawei Nova 3E</td>\n      <td>9.0</td>\n      <td>1.0</td>\n      <td>45.0</td>\n      <td>48.0</td>\n      <td>21006809.0</td>\n      <td>771052.0</td>\n      <td>10.0</td>\n      <td>21777861.0</td>\n      <td>93.0</td>\n    </tr>\n  </tbody>\n</table>\n</div>"
     },
     "execution_count": 12,
     "metadata": {},
     "output_type": "execute_result"
    }
   ],
   "source": [
    "user_experience_db.nsmallest(n=10, columns='Average RTT (ms)')"
   ],
   "metadata": {
    "collapsed": false,
    "pycharm": {
     "name": "#%%\n"
    }
   }
  },
  {
   "cell_type": "code",
   "execution_count": 13,
   "outputs": [
    {
     "data": {
      "text/plain": "Average RTT (ms)\n124.0               16539\n29.0                 2735\n39.0                 2163\n248.0                1957\n38.0                 1447\n30.0                 1419\n40.0                 1382\n28.0                 1330\n49.0                 1192\n31.0                 1053\ndtype: int64"
     },
     "execution_count": 13,
     "metadata": {},
     "output_type": "execute_result"
    }
   ],
   "source": [
    "user_experience_db.value_counts(subset=['Average RTT (ms)'])[:10]"
   ],
   "metadata": {
    "collapsed": false,
    "pycharm": {
     "name": "#%%\n"
    }
   }
  },
  {
   "cell_type": "code",
   "execution_count": 14,
   "outputs": [
    {
     "data": {
      "text/plain": "                                Handset Type  Avg RTT DL (ms)  \\\nMSISDN/Number                                                   \n3.376233e+10        Samsung Galaxy A8 (2018)            251.0   \n3.366871e+10                Huawei B528S-23A            310.0   \n3.365955e+10                Huawei B528S-23A            371.0   \n3.366995e+10                Huawei B528S-23A            190.0   \n3.366843e+10                Huawei B528S-23A            284.0   \n3.369817e+10                         unknown            397.0   \n3.362570e+10   Samsung Galaxy S9 Sm-G960F Ds            594.0   \n3.365808e+10                Huawei B528S-23A            438.0   \n3.376264e+10                Huawei B528S-23A           1411.0   \n3.366566e+10                Huawei B528S-23A            142.0   \n\n               Avg RTT UL (ms)  Avg Bearer TP DL (kbps)  \\\nMSISDN/Number                                             \n3.376233e+10             149.0                 846163.0   \n3.366871e+10             190.0                 680994.0   \n3.365955e+10             217.0                 670930.0   \n3.366995e+10             180.0                 581209.0   \n3.366843e+10              98.0                 658687.0   \n3.369817e+10              81.0                 606931.0   \n3.362570e+10             108.0                 556109.0   \n3.365808e+10             129.0                 386767.0   \n3.376264e+10            1449.0                 453489.0   \n3.366566e+10              46.0                 460168.0   \n\n               Avg Bearer TP UL (kbps)  TCP DL Retrans. Vol (Bytes)  \\\nMSISDN/Number                                                         \n3.376233e+10                   56059.0                 2.500780e+07   \n3.366871e+10                  159430.0                 1.413487e+08   \n3.365955e+10                  127412.0                 3.254110e+07   \n3.366995e+10                  109606.0                 6.261887e+07   \n3.366843e+10                   18171.0                 7.873747e+08   \n3.369817e+10                   11866.0                 1.240832e+08   \n3.362570e+10                    8070.0                 6.927152e+07   \n3.365808e+10                  163585.0                 2.854412e+07   \n3.376264e+10                   96172.0                 5.878002e+09   \n3.366566e+10                   70185.0                 1.106548e+07   \n\n               TCP UL Retrans. Vol (Bytes)  Average RTT (ms)  \\\nMSISDN/Number                                                  \n3.376233e+10                     3106030.0             400.0   \n3.366871e+10                     1638425.0             500.0   \n3.365955e+10                     2198163.0             588.0   \n3.366995e+10                       98687.0             370.0   \n3.366843e+10                      284930.0             382.0   \n3.369817e+10                     2640043.0             478.0   \n3.362570e+10                     2355773.0             702.0   \n3.365808e+10                      239972.0             567.0   \n3.376264e+10                     1986547.0            2860.0   \n3.366566e+10                      182767.0             188.0   \n\n               Average TCP retransmission (Bytes)  Average Throughput (kbps)  \nMSISDN/Number                                                                 \n3.376233e+10                         2.811382e+07                   902222.0  \n3.366871e+10                         1.429871e+08                   840424.0  \n3.365955e+10                         3.473926e+07                   798342.0  \n3.366995e+10                         6.271756e+07                   690815.0  \n3.366843e+10                         7.876596e+08                   676858.0  \n3.369817e+10                         1.267232e+08                   618797.0  \n3.362570e+10                         7.162730e+07                   564179.0  \n3.365808e+10                         2.878409e+07                   550352.0  \n3.376264e+10                         5.879989e+09                   549661.0  \n3.366566e+10                         1.124825e+07                   530353.0  ",
      "text/html": "<div>\n<style scoped>\n    .dataframe tbody tr th:only-of-type {\n        vertical-align: middle;\n    }\n\n    .dataframe tbody tr th {\n        vertical-align: top;\n    }\n\n    .dataframe thead th {\n        text-align: right;\n    }\n</style>\n<table border=\"1\" class=\"dataframe\">\n  <thead>\n    <tr style=\"text-align: right;\">\n      <th></th>\n      <th>Handset Type</th>\n      <th>Avg RTT DL (ms)</th>\n      <th>Avg RTT UL (ms)</th>\n      <th>Avg Bearer TP DL (kbps)</th>\n      <th>Avg Bearer TP UL (kbps)</th>\n      <th>TCP DL Retrans. Vol (Bytes)</th>\n      <th>TCP UL Retrans. Vol (Bytes)</th>\n      <th>Average RTT (ms)</th>\n      <th>Average TCP retransmission (Bytes)</th>\n      <th>Average Throughput (kbps)</th>\n    </tr>\n    <tr>\n      <th>MSISDN/Number</th>\n      <th></th>\n      <th></th>\n      <th></th>\n      <th></th>\n      <th></th>\n      <th></th>\n      <th></th>\n      <th></th>\n      <th></th>\n      <th></th>\n    </tr>\n  </thead>\n  <tbody>\n    <tr>\n      <th>3.376233e+10</th>\n      <td>Samsung Galaxy A8 (2018)</td>\n      <td>251.0</td>\n      <td>149.0</td>\n      <td>846163.0</td>\n      <td>56059.0</td>\n      <td>2.500780e+07</td>\n      <td>3106030.0</td>\n      <td>400.0</td>\n      <td>2.811382e+07</td>\n      <td>902222.0</td>\n    </tr>\n    <tr>\n      <th>3.366871e+10</th>\n      <td>Huawei B528S-23A</td>\n      <td>310.0</td>\n      <td>190.0</td>\n      <td>680994.0</td>\n      <td>159430.0</td>\n      <td>1.413487e+08</td>\n      <td>1638425.0</td>\n      <td>500.0</td>\n      <td>1.429871e+08</td>\n      <td>840424.0</td>\n    </tr>\n    <tr>\n      <th>3.365955e+10</th>\n      <td>Huawei B528S-23A</td>\n      <td>371.0</td>\n      <td>217.0</td>\n      <td>670930.0</td>\n      <td>127412.0</td>\n      <td>3.254110e+07</td>\n      <td>2198163.0</td>\n      <td>588.0</td>\n      <td>3.473926e+07</td>\n      <td>798342.0</td>\n    </tr>\n    <tr>\n      <th>3.366995e+10</th>\n      <td>Huawei B528S-23A</td>\n      <td>190.0</td>\n      <td>180.0</td>\n      <td>581209.0</td>\n      <td>109606.0</td>\n      <td>6.261887e+07</td>\n      <td>98687.0</td>\n      <td>370.0</td>\n      <td>6.271756e+07</td>\n      <td>690815.0</td>\n    </tr>\n    <tr>\n      <th>3.366843e+10</th>\n      <td>Huawei B528S-23A</td>\n      <td>284.0</td>\n      <td>98.0</td>\n      <td>658687.0</td>\n      <td>18171.0</td>\n      <td>7.873747e+08</td>\n      <td>284930.0</td>\n      <td>382.0</td>\n      <td>7.876596e+08</td>\n      <td>676858.0</td>\n    </tr>\n    <tr>\n      <th>3.369817e+10</th>\n      <td>unknown</td>\n      <td>397.0</td>\n      <td>81.0</td>\n      <td>606931.0</td>\n      <td>11866.0</td>\n      <td>1.240832e+08</td>\n      <td>2640043.0</td>\n      <td>478.0</td>\n      <td>1.267232e+08</td>\n      <td>618797.0</td>\n    </tr>\n    <tr>\n      <th>3.362570e+10</th>\n      <td>Samsung Galaxy S9 Sm-G960F Ds</td>\n      <td>594.0</td>\n      <td>108.0</td>\n      <td>556109.0</td>\n      <td>8070.0</td>\n      <td>6.927152e+07</td>\n      <td>2355773.0</td>\n      <td>702.0</td>\n      <td>7.162730e+07</td>\n      <td>564179.0</td>\n    </tr>\n    <tr>\n      <th>3.365808e+10</th>\n      <td>Huawei B528S-23A</td>\n      <td>438.0</td>\n      <td>129.0</td>\n      <td>386767.0</td>\n      <td>163585.0</td>\n      <td>2.854412e+07</td>\n      <td>239972.0</td>\n      <td>567.0</td>\n      <td>2.878409e+07</td>\n      <td>550352.0</td>\n    </tr>\n    <tr>\n      <th>3.376264e+10</th>\n      <td>Huawei B528S-23A</td>\n      <td>1411.0</td>\n      <td>1449.0</td>\n      <td>453489.0</td>\n      <td>96172.0</td>\n      <td>5.878002e+09</td>\n      <td>1986547.0</td>\n      <td>2860.0</td>\n      <td>5.879989e+09</td>\n      <td>549661.0</td>\n    </tr>\n    <tr>\n      <th>3.366566e+10</th>\n      <td>Huawei B528S-23A</td>\n      <td>142.0</td>\n      <td>46.0</td>\n      <td>460168.0</td>\n      <td>70185.0</td>\n      <td>1.106548e+07</td>\n      <td>182767.0</td>\n      <td>188.0</td>\n      <td>1.124825e+07</td>\n      <td>530353.0</td>\n    </tr>\n  </tbody>\n</table>\n</div>"
     },
     "execution_count": 14,
     "metadata": {},
     "output_type": "execute_result"
    }
   ],
   "source": [
    "user_experience_db.nlargest(n=10, columns='Average Throughput (kbps)')"
   ],
   "metadata": {
    "collapsed": false,
    "pycharm": {
     "name": "#%%\n"
    }
   }
  },
  {
   "cell_type": "code",
   "execution_count": 15,
   "outputs": [
    {
     "data": {
      "text/plain": "                                     Handset Type  Avg RTT DL (ms)  \\\nMSISDN/Number                                                        \n3.360345e+10        Samsung Galaxy S9 Sm-G960F Ds            106.0   \n3.360413e+10   Lenovo Moto G (3Rd Gen) Ca12459445            106.0   \n3.360851e+10                              unknown            106.0   \n3.360875e+10         Samsung Galaxy J3 (Sm-J320X)            106.0   \n3.360889e+10         Samsung Galaxy S8 (Sm-G950F)            106.0   \n3.360985e+10    Samsung Galaxy S7 Edge (Sm-G935X)            106.0   \n3.361064e+10                              unknown            106.0   \n3.361152e+10    Samsung Galaxy S7 Edge (Sm-G935X)            212.0   \n3.361611e+10              Apple iPhone Xr (A2105)            106.0   \n3.361661e+10                           Huawei P10            106.0   \n\n               Avg RTT UL (ms)  Avg Bearer TP DL (kbps)  \\\nMSISDN/Number                                             \n3.360345e+10              18.0                      0.0   \n3.360413e+10              18.0                      0.0   \n3.360851e+10              18.0                      0.0   \n3.360875e+10              18.0                      0.0   \n3.360889e+10              18.0                      0.0   \n3.360985e+10              18.0                      0.0   \n3.361064e+10              18.0                      0.0   \n3.361152e+10              36.0                      0.0   \n3.361611e+10              18.0                      0.0   \n3.361661e+10              18.0                      0.0   \n\n               Avg Bearer TP UL (kbps)  TCP DL Retrans. Vol (Bytes)  \\\nMSISDN/Number                                                         \n3.360345e+10                       0.0                   21006809.0   \n3.360413e+10                       0.0                   21006809.0   \n3.360851e+10                       0.0                   21006809.0   \n3.360875e+10                       0.0                   21006809.0   \n3.360889e+10                       0.0                   21006809.0   \n3.360985e+10                       0.0                   21006809.0   \n3.361064e+10                       0.0                   21006809.0   \n3.361152e+10                       0.0                   42013618.0   \n3.361611e+10                       0.0                   21006809.0   \n3.361661e+10                       0.0                   21006809.0   \n\n               TCP UL Retrans. Vol (Bytes)  Average RTT (ms)  \\\nMSISDN/Number                                                  \n3.360345e+10                      771052.0             124.0   \n3.360413e+10                      771052.0             124.0   \n3.360851e+10                      771052.0             124.0   \n3.360875e+10                      771052.0             124.0   \n3.360889e+10                      771052.0             124.0   \n3.360985e+10                      771052.0             124.0   \n3.361064e+10                      771052.0             124.0   \n3.361152e+10                     1542104.0             248.0   \n3.361611e+10                      771052.0             124.0   \n3.361661e+10                      771052.0             124.0   \n\n               Average TCP retransmission (Bytes)  Average Throughput (kbps)  \nMSISDN/Number                                                                 \n3.360345e+10                           21777861.0                        0.0  \n3.360413e+10                           21777861.0                        0.0  \n3.360851e+10                           21777861.0                        0.0  \n3.360875e+10                           21777861.0                        0.0  \n3.360889e+10                           21777861.0                        0.0  \n3.360985e+10                           21777861.0                        0.0  \n3.361064e+10                           21777861.0                        0.0  \n3.361152e+10                           43555722.0                        0.0  \n3.361611e+10                           21777861.0                        0.0  \n3.361661e+10                           21777861.0                        0.0  ",
      "text/html": "<div>\n<style scoped>\n    .dataframe tbody tr th:only-of-type {\n        vertical-align: middle;\n    }\n\n    .dataframe tbody tr th {\n        vertical-align: top;\n    }\n\n    .dataframe thead th {\n        text-align: right;\n    }\n</style>\n<table border=\"1\" class=\"dataframe\">\n  <thead>\n    <tr style=\"text-align: right;\">\n      <th></th>\n      <th>Handset Type</th>\n      <th>Avg RTT DL (ms)</th>\n      <th>Avg RTT UL (ms)</th>\n      <th>Avg Bearer TP DL (kbps)</th>\n      <th>Avg Bearer TP UL (kbps)</th>\n      <th>TCP DL Retrans. Vol (Bytes)</th>\n      <th>TCP UL Retrans. Vol (Bytes)</th>\n      <th>Average RTT (ms)</th>\n      <th>Average TCP retransmission (Bytes)</th>\n      <th>Average Throughput (kbps)</th>\n    </tr>\n    <tr>\n      <th>MSISDN/Number</th>\n      <th></th>\n      <th></th>\n      <th></th>\n      <th></th>\n      <th></th>\n      <th></th>\n      <th></th>\n      <th></th>\n      <th></th>\n      <th></th>\n    </tr>\n  </thead>\n  <tbody>\n    <tr>\n      <th>3.360345e+10</th>\n      <td>Samsung Galaxy S9 Sm-G960F Ds</td>\n      <td>106.0</td>\n      <td>18.0</td>\n      <td>0.0</td>\n      <td>0.0</td>\n      <td>21006809.0</td>\n      <td>771052.0</td>\n      <td>124.0</td>\n      <td>21777861.0</td>\n      <td>0.0</td>\n    </tr>\n    <tr>\n      <th>3.360413e+10</th>\n      <td>Lenovo Moto G (3Rd Gen) Ca12459445</td>\n      <td>106.0</td>\n      <td>18.0</td>\n      <td>0.0</td>\n      <td>0.0</td>\n      <td>21006809.0</td>\n      <td>771052.0</td>\n      <td>124.0</td>\n      <td>21777861.0</td>\n      <td>0.0</td>\n    </tr>\n    <tr>\n      <th>3.360851e+10</th>\n      <td>unknown</td>\n      <td>106.0</td>\n      <td>18.0</td>\n      <td>0.0</td>\n      <td>0.0</td>\n      <td>21006809.0</td>\n      <td>771052.0</td>\n      <td>124.0</td>\n      <td>21777861.0</td>\n      <td>0.0</td>\n    </tr>\n    <tr>\n      <th>3.360875e+10</th>\n      <td>Samsung Galaxy J3 (Sm-J320X)</td>\n      <td>106.0</td>\n      <td>18.0</td>\n      <td>0.0</td>\n      <td>0.0</td>\n      <td>21006809.0</td>\n      <td>771052.0</td>\n      <td>124.0</td>\n      <td>21777861.0</td>\n      <td>0.0</td>\n    </tr>\n    <tr>\n      <th>3.360889e+10</th>\n      <td>Samsung Galaxy S8 (Sm-G950F)</td>\n      <td>106.0</td>\n      <td>18.0</td>\n      <td>0.0</td>\n      <td>0.0</td>\n      <td>21006809.0</td>\n      <td>771052.0</td>\n      <td>124.0</td>\n      <td>21777861.0</td>\n      <td>0.0</td>\n    </tr>\n    <tr>\n      <th>3.360985e+10</th>\n      <td>Samsung Galaxy S7 Edge (Sm-G935X)</td>\n      <td>106.0</td>\n      <td>18.0</td>\n      <td>0.0</td>\n      <td>0.0</td>\n      <td>21006809.0</td>\n      <td>771052.0</td>\n      <td>124.0</td>\n      <td>21777861.0</td>\n      <td>0.0</td>\n    </tr>\n    <tr>\n      <th>3.361064e+10</th>\n      <td>unknown</td>\n      <td>106.0</td>\n      <td>18.0</td>\n      <td>0.0</td>\n      <td>0.0</td>\n      <td>21006809.0</td>\n      <td>771052.0</td>\n      <td>124.0</td>\n      <td>21777861.0</td>\n      <td>0.0</td>\n    </tr>\n    <tr>\n      <th>3.361152e+10</th>\n      <td>Samsung Galaxy S7 Edge (Sm-G935X)</td>\n      <td>212.0</td>\n      <td>36.0</td>\n      <td>0.0</td>\n      <td>0.0</td>\n      <td>42013618.0</td>\n      <td>1542104.0</td>\n      <td>248.0</td>\n      <td>43555722.0</td>\n      <td>0.0</td>\n    </tr>\n    <tr>\n      <th>3.361611e+10</th>\n      <td>Apple iPhone Xr (A2105)</td>\n      <td>106.0</td>\n      <td>18.0</td>\n      <td>0.0</td>\n      <td>0.0</td>\n      <td>21006809.0</td>\n      <td>771052.0</td>\n      <td>124.0</td>\n      <td>21777861.0</td>\n      <td>0.0</td>\n    </tr>\n    <tr>\n      <th>3.361661e+10</th>\n      <td>Huawei P10</td>\n      <td>106.0</td>\n      <td>18.0</td>\n      <td>0.0</td>\n      <td>0.0</td>\n      <td>21006809.0</td>\n      <td>771052.0</td>\n      <td>124.0</td>\n      <td>21777861.0</td>\n      <td>0.0</td>\n    </tr>\n  </tbody>\n</table>\n</div>"
     },
     "execution_count": 15,
     "metadata": {},
     "output_type": "execute_result"
    }
   ],
   "source": [
    "user_experience_db.nsmallest(n=10, columns='Average Throughput (kbps)')"
   ],
   "metadata": {
    "collapsed": false,
    "pycharm": {
     "name": "#%%\n"
    }
   }
  },
  {
   "cell_type": "code",
   "execution_count": 16,
   "outputs": [
    {
     "data": {
      "text/plain": "Average Throughput (kbps)\n15.0                         2687\n63.0                         2072\n97.0                         1024\n90.0                         1006\n98.0                          970\n96.0                          866\n99.0                          853\n89.0                          816\n95.0                          798\n91.0                          793\ndtype: int64"
     },
     "execution_count": 16,
     "metadata": {},
     "output_type": "execute_result"
    }
   ],
   "source": [
    "user_experience_db.value_counts(subset=['Average Throughput (kbps)'])[:10]"
   ],
   "metadata": {
    "collapsed": false,
    "pycharm": {
     "name": "#%%\n"
    }
   }
  }
 ],
 "metadata": {
  "kernelspec": {
   "display_name": "Python 3",
   "language": "python",
   "name": "python3"
  },
  "language_info": {
   "codemirror_mode": {
    "name": "ipython",
    "version": 2
   },
   "file_extension": ".py",
   "mimetype": "text/x-python",
   "name": "python",
   "nbconvert_exporter": "python",
   "pygments_lexer": "ipython2",
   "version": "2.7.6"
  }
 },
 "nbformat": 4,
 "nbformat_minor": 0
}