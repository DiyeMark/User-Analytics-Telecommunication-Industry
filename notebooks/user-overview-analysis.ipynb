{
 "cells": [
  {
   "cell_type": "markdown",
   "source": [
    "<h1>Task 1 - User Overview Analysis</h1>\n",
    "<hr><hr>"
   ],
   "metadata": {
    "collapsed": false,
    "pycharm": {
     "name": "#%% md\n"
    }
   },
   "execution_count": 0
  },
  {
   "cell_type": "code",
   "execution_count": 157,
   "outputs": [],
   "source": [
    "import os\n",
    "import pandas as pd\n",
    "import numpy as np"
   ],
   "metadata": {
    "collapsed": false,
    "pycharm": {
     "name": "#%%\n"
    }
   }
  },
  {
   "cell_type": "code",
   "execution_count": 158,
   "outputs": [],
   "source": [
    "pwd = os.getcwd()\n",
    "path = os.path.join(pwd, os.pardir, 'data/data_source.csv')"
   ],
   "metadata": {
    "collapsed": false,
    "pycharm": {
     "name": "#%%\n"
    }
   }
  },
  {
   "cell_type": "code",
   "execution_count": null,
   "outputs": [],
   "source": [
    "db = pd.read_csv(path, keep_default_na=True, na_values=['undefined'], parse_dates=['Start', 'End'])\n",
    "db.head()"
   ],
   "metadata": {
    "collapsed": false,
    "pycharm": {
     "name": "#%%\n",
     "is_executing": true
    }
   }
  },
  {
   "cell_type": "code",
   "execution_count": null,
   "outputs": [],
   "source": [
    "# column names\n",
    "db.columns.tolist()"
   ],
   "metadata": {
    "collapsed": false,
    "pycharm": {
     "name": "#%%\n",
     "is_executing": true
    }
   }
  },
  {
   "cell_type": "code",
   "execution_count": null,
   "outputs": [],
   "source": [
    "# number of data points\n",
    "print(f\" There are {db.shape[0]} rows and {db.shape[1]} columns\")"
   ],
   "metadata": {
    "collapsed": false,
    "pycharm": {
     "name": "#%%\n",
     "is_executing": true
    }
   }
  },
  {
   "cell_type": "code",
   "execution_count": null,
   "outputs": [],
   "source": [
    "# information about the columns\n",
    "db.info()"
   ],
   "metadata": {
    "collapsed": false,
    "pycharm": {
     "name": "#%%\n",
     "is_executing": true
    }
   }
  },
  {
   "cell_type": "markdown",
   "source": [
    "<h2>Data Cleaning</h2>\n",
    "<hr>"
   ],
   "metadata": {
    "collapsed": false,
    "pycharm": {
     "name": "#%% md\n"
    }
   }
  },
  {
   "cell_type": "code",
   "execution_count": null,
   "outputs": [],
   "source": [
    "# how many missing values exist or better still what is the % of missing values in the dataset?\n",
    "def percent_missing(df):\n",
    "\n",
    "    # Calculate total number of cells in dataframe\n",
    "    total_cells = np.product(df.shape)\n",
    "\n",
    "    # Count number of missing values per column\n",
    "    missing_count = df.isnull().sum()\n",
    "\n",
    "    # Calculate total number of missing values\n",
    "    total_missing = missing_count.sum()\n",
    "\n",
    "    # Calculate percentage of missing values\n",
    "    print(round(((total_missing/total_cells) * 100), 2), \"%\", \"missing values.\")"
   ],
   "metadata": {
    "collapsed": false,
    "pycharm": {
     "name": "#%%\n",
     "is_executing": true
    }
   }
  },
  {
   "cell_type": "code",
   "execution_count": null,
   "outputs": [],
   "source": [
    "percent_missing(db)"
   ],
   "metadata": {
    "collapsed": false,
    "pycharm": {
     "name": "#%%\n",
     "is_executing": true
    }
   }
  },
  {
   "cell_type": "code",
   "execution_count": null,
   "outputs": [],
   "source": [
    "db.isna().sum()"
   ],
   "metadata": {
    "collapsed": false,
    "pycharm": {
     "name": "#%%\n",
     "is_executing": true
    }
   }
  },
  {
   "cell_type": "code",
   "execution_count": null,
   "outputs": [],
   "source": [
    "# top 10 handsets used by the customers\n",
    "db['Handset Type'].value_counts().nlargest(10)"
   ],
   "metadata": {
    "collapsed": false,
    "pycharm": {
     "name": "#%%\n",
     "is_executing": true
    }
   }
  },
  {
   "cell_type": "code",
   "execution_count": null,
   "outputs": [],
   "source": [
    "# top 3 handset manufacturers\n",
    "db['Handset Manufacturer'].value_counts().nlargest(3)"
   ],
   "metadata": {
    "collapsed": false,
    "pycharm": {
     "name": "#%%\n",
     "is_executing": true
    }
   }
  },
  {
   "cell_type": "code",
   "execution_count": null,
   "outputs": [],
   "source": [
    "# top 5 handsets per top 3 handset manufacturer\n",
    "db['Handset Type'].where(db['Handset Manufacturer'] == 'Apple').value_counts().nlargest(5)"
   ],
   "metadata": {
    "collapsed": false,
    "pycharm": {
     "name": "#%%\n",
     "is_executing": true
    }
   }
  },
  {
   "cell_type": "code",
   "execution_count": null,
   "outputs": [],
   "source": [
    "# top 5 handsets per top 3 handset manufacturer\n",
    "db['Handset Type'].where(db['Handset Manufacturer'] == 'Samsung').value_counts().nlargest(5)"
   ],
   "metadata": {
    "collapsed": false,
    "pycharm": {
     "name": "#%%\n",
     "is_executing": true
    }
   }
  },
  {
   "cell_type": "code",
   "execution_count": null,
   "outputs": [],
   "source": [
    "# top 5 handsets per top 3 handset manufacturer\n",
    "db['Handset Type'].where(db['Handset Manufacturer'] == 'Huawei').value_counts().nlargest(5)"
   ],
   "metadata": {
    "collapsed": false,
    "pycharm": {
     "name": "#%%\n",
     "is_executing": true
    }
   }
  },
  {
   "cell_type": "code",
   "execution_count": null,
   "outputs": [],
   "source": [
    "user_db = db.groupby('MSISDN/Number').agg({\n",
    "    \"Bearer Id\": \"count\",\n",
    "    \"Dur. (ms)\": \"sum\",\n",
    "    \"Total DL (Bytes)\": \"sum\",\n",
    "    \"Total UL (Bytes)\": \"sum\",\n",
    "    \"Social Media DL (Bytes)\": \"sum\",\n",
    "    \"Social Media UL (Bytes)\": \"sum\",\n",
    "    \"Email DL (Bytes)\": \"sum\",\n",
    "    \"Email UL (Bytes)\": \"sum\",\n",
    "    \"Google DL (Bytes)\": \"sum\",\n",
    "    \"Google UL (Bytes)\": \"sum\",\n",
    "    \"Netflix DL (Bytes)\": \"sum\",\n",
    "    \"Netflix UL (Bytes)\": \"sum\",\n",
    "    \"Youtube DL (Bytes)\": \"sum\",\n",
    "    \"Youtube UL (Bytes)\": \"sum\",\n",
    "    \"Gaming DL (Bytes)\": \"sum\",\n",
    "    \"Gaming UL (Bytes)\": \"sum\",\n",
    "    \"Other DL (Bytes)\": \"sum\",\n",
    "    \"Other UL (Bytes)\": \"sum\",\n",
    "}).rename(columns={\n",
    "    \"Bearer Id\": \"Session Count\"\n",
    "})\n",
    "user_db.head()"
   ],
   "metadata": {
    "collapsed": false,
    "pycharm": {
     "name": "#%%\n",
     "is_executing": true
    }
   }
  },
  {
   "cell_type": "code",
   "execution_count": null,
   "outputs": [],
   "source": [
    "user_db[\"Total Data Transferred\"] = user_db[\"Total UL (Bytes)\"] + user_db[\"Total DL (Bytes)\"]"
   ],
   "metadata": {
    "collapsed": false,
    "pycharm": {
     "name": "#%%\n",
     "is_executing": true
    }
   }
  },
  {
   "cell_type": "code",
   "execution_count": null,
   "outputs": [],
   "source": [
    "user_db[\"Google Volume\"] = user_db[\"Google UL (Bytes)\"] + user_db[\"Google DL (Bytes)\"]\n",
    "user_db[\"Netflix Volume\"] = user_db[\"Netflix UL (Bytes)\"] + user_db[\"Netflix DL (Bytes)\"]\n",
    "user_db[\"Youtube Volume\"] = user_db[\"Youtube UL (Bytes)\"] + user_db[\"Youtube DL (Bytes)\"]\n",
    "user_db[\"Gaming Volume\"] = user_db[\"Gaming UL (Bytes)\"] + user_db[\"Gaming DL (Bytes)\"]\n",
    "user_db[\"Email Volume\"] = user_db[\"Email UL (Bytes)\"] + user_db[\"Email DL (Bytes)\"]\n",
    "user_db[\"Social Media Volume\"] = user_db[\"Social Media UL (Bytes)\"] + user_db[\"Social Media DL (Bytes)\"]\n",
    "user_db[\"Other Volume\"] = user_db[\"Other UL (Bytes)\"] + user_db[\"Other DL (Bytes)\"]"
   ],
   "metadata": {
    "collapsed": false,
    "pycharm": {
     "name": "#%%\n",
     "is_executing": true
    }
   }
  },
  {
   "cell_type": "code",
   "execution_count": null,
   "outputs": [],
   "source": [
    "user_db[\"Total Volume\"] = user_db[\"Google Volume\"] + user_db[\"Netflix Volume\"] + user_db[\"Youtube Volume\"] + user_db[\"Gaming Volume\"] + user_db[\"Other Volume\"] + user_db[\"Social Media Volume\"] + user_db[\"Email Volume\"]"
   ],
   "metadata": {
    "collapsed": false,
    "pycharm": {
     "name": "#%%\n",
     "is_executing": true
    }
   }
  },
  {
   "cell_type": "code",
   "execution_count": null,
   "outputs": [],
   "source": [
    "user_db.head()"
   ],
   "metadata": {
    "collapsed": false,
    "pycharm": {
     "name": "#%%\n",
     "is_executing": true
    }
   }
  },
  {
   "cell_type": "code",
   "execution_count": null,
   "outputs": [],
   "source": [
    "user_db_clean = user_db[['Session Count', 'Dur. (ms)', 'Total Data Transferred', 'Social Media Volume', 'Google Volume',  'Email Volume', 'Youtube Volume', 'Netflix Volume', 'Gaming Volume', 'Other Volume']]"
   ],
   "metadata": {
    "collapsed": false,
    "pycharm": {
     "name": "#%%\n",
     "is_executing": true
    }
   }
  },
  {
   "cell_type": "code",
   "execution_count": null,
   "outputs": [],
   "source": [
    "user_db_clean.describe()"
   ],
   "metadata": {
    "collapsed": false,
    "pycharm": {
     "name": "#%%\n",
     "is_executing": true
    }
   }
  }
 ],
 "metadata": {
  "kernelspec": {
   "display_name": "Python 3",
   "language": "python",
   "name": "python3"
  },
  "language_info": {
   "codemirror_mode": {
    "name": "ipython",
    "version": 2
   },
   "file_extension": ".py",
   "mimetype": "text/x-python",
   "name": "python",
   "nbconvert_exporter": "python",
   "pygments_lexer": "ipython2",
   "version": "2.7.6"
  }
 },
 "nbformat": 4,
 "nbformat_minor": 0
}