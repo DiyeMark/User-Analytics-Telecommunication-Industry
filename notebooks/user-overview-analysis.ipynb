{
 "cells": [
  {
   "cell_type": "markdown",
   "source": [
    "<h1>Task 1 - User Overview Analysis</h1>\n",
    "<hr><hr>"
   ],
   "metadata": {
    "collapsed": false,
    "pycharm": {
     "name": "#%% md\n"
    }
   },
   "execution_count": 0
  },
  {
   "cell_type": "code",
   "execution_count": 157,
   "outputs": [],
   "source": [
    "import os\n",
    "import pandas as pd\n",
    "import numpy as np"
   ],
   "metadata": {
    "collapsed": false,
    "pycharm": {
     "name": "#%%\n"
    }
   }
  },
  {
   "cell_type": "code",
   "execution_count": 158,
   "outputs": [],
   "source": [
    "pwd = os.getcwd()\n",
    "path = os.path.join(pwd, os.pardir, 'data/data_source.csv')"
   ],
   "metadata": {
    "collapsed": false,
    "pycharm": {
     "name": "#%%\n"
    }
   }
  },
  {
   "cell_type": "code",
   "execution_count": 159,
   "outputs": [
    {
     "data": {
      "text/plain": "      Bearer Id               Start  Start ms                 End  End ms  \\\n0  1.311448e+19 2019-04-04 12:01:00     770.0 2019-04-25 14:35:00   662.0   \n1  1.311448e+19 2019-04-09 13:04:00     235.0 2019-04-25 08:15:00   606.0   \n2  1.311448e+19 2019-04-09 17:42:00       1.0 2019-04-25 11:58:00   652.0   \n3  1.311448e+19 2019-04-10 00:31:00     486.0 2019-04-25 07:36:00   171.0   \n4  1.311448e+19 2019-04-12 20:10:00     565.0 2019-04-25 10:40:00   954.0   \n\n   Dur. (ms)          IMSI  MSISDN/Number          IMEI  \\\n0  1823652.0  2.082014e+14   3.366496e+10  3.552121e+13   \n1  1365104.0  2.082019e+14   3.368185e+10  3.579401e+13   \n2  1361762.0  2.082003e+14   3.376063e+10  3.528151e+13   \n3  1321509.0  2.082014e+14   3.375034e+10  3.535661e+13   \n4  1089009.0  2.082014e+14   3.369980e+10  3.540701e+13   \n\n      Last Location Name  ...  Youtube DL (Bytes)  Youtube UL (Bytes)  \\\n0  9.16456699548519E+015  ...          15854611.0           2501332.0   \n1                L77566A  ...          20247395.0          19111729.0   \n2                D42335A  ...          19725661.0          14699576.0   \n3                T21824A  ...          21388122.0          15146643.0   \n4                D88865A  ...          15259380.0          18962873.0   \n\n   Netflix DL (Bytes)  Netflix UL (Bytes)  Gaming DL (Bytes)  \\\n0           8198936.0           9656251.0        278082303.0   \n1          18338413.0          17227132.0        608750074.0   \n2          17587794.0           6163408.0        229584621.0   \n3          13994646.0           1097942.0        799538153.0   \n4          17124581.0            415218.0        527707248.0   \n\n   Gaming UL (Bytes)  Other DL (Bytes)  Other UL (Bytes)  Total UL (Bytes)  \\\n0         14344150.0       171744450.0         8814393.0        36749741.0   \n1          1170709.0       526904238.0        15055145.0        53800391.0   \n2           395630.0       410692588.0         4215763.0        27883638.0   \n3         10849722.0       749039933.0        12797283.0        43324218.0   \n4          3529801.0       550709500.0        13910322.0        38542814.0   \n\n   Total DL (Bytes)  \n0       308879636.0  \n1       653384965.0  \n2       279807335.0  \n3       846028530.0  \n4       569138589.0  \n\n[5 rows x 55 columns]",
      "text/html": "<div>\n<style scoped>\n    .dataframe tbody tr th:only-of-type {\n        vertical-align: middle;\n    }\n\n    .dataframe tbody tr th {\n        vertical-align: top;\n    }\n\n    .dataframe thead th {\n        text-align: right;\n    }\n</style>\n<table border=\"1\" class=\"dataframe\">\n  <thead>\n    <tr style=\"text-align: right;\">\n      <th></th>\n      <th>Bearer Id</th>\n      <th>Start</th>\n      <th>Start ms</th>\n      <th>End</th>\n      <th>End ms</th>\n      <th>Dur. (ms)</th>\n      <th>IMSI</th>\n      <th>MSISDN/Number</th>\n      <th>IMEI</th>\n      <th>Last Location Name</th>\n      <th>...</th>\n      <th>Youtube DL (Bytes)</th>\n      <th>Youtube UL (Bytes)</th>\n      <th>Netflix DL (Bytes)</th>\n      <th>Netflix UL (Bytes)</th>\n      <th>Gaming DL (Bytes)</th>\n      <th>Gaming UL (Bytes)</th>\n      <th>Other DL (Bytes)</th>\n      <th>Other UL (Bytes)</th>\n      <th>Total UL (Bytes)</th>\n      <th>Total DL (Bytes)</th>\n    </tr>\n  </thead>\n  <tbody>\n    <tr>\n      <th>0</th>\n      <td>1.311448e+19</td>\n      <td>2019-04-04 12:01:00</td>\n      <td>770.0</td>\n      <td>2019-04-25 14:35:00</td>\n      <td>662.0</td>\n      <td>1823652.0</td>\n      <td>2.082014e+14</td>\n      <td>3.366496e+10</td>\n      <td>3.552121e+13</td>\n      <td>9.16456699548519E+015</td>\n      <td>...</td>\n      <td>15854611.0</td>\n      <td>2501332.0</td>\n      <td>8198936.0</td>\n      <td>9656251.0</td>\n      <td>278082303.0</td>\n      <td>14344150.0</td>\n      <td>171744450.0</td>\n      <td>8814393.0</td>\n      <td>36749741.0</td>\n      <td>308879636.0</td>\n    </tr>\n    <tr>\n      <th>1</th>\n      <td>1.311448e+19</td>\n      <td>2019-04-09 13:04:00</td>\n      <td>235.0</td>\n      <td>2019-04-25 08:15:00</td>\n      <td>606.0</td>\n      <td>1365104.0</td>\n      <td>2.082019e+14</td>\n      <td>3.368185e+10</td>\n      <td>3.579401e+13</td>\n      <td>L77566A</td>\n      <td>...</td>\n      <td>20247395.0</td>\n      <td>19111729.0</td>\n      <td>18338413.0</td>\n      <td>17227132.0</td>\n      <td>608750074.0</td>\n      <td>1170709.0</td>\n      <td>526904238.0</td>\n      <td>15055145.0</td>\n      <td>53800391.0</td>\n      <td>653384965.0</td>\n    </tr>\n    <tr>\n      <th>2</th>\n      <td>1.311448e+19</td>\n      <td>2019-04-09 17:42:00</td>\n      <td>1.0</td>\n      <td>2019-04-25 11:58:00</td>\n      <td>652.0</td>\n      <td>1361762.0</td>\n      <td>2.082003e+14</td>\n      <td>3.376063e+10</td>\n      <td>3.528151e+13</td>\n      <td>D42335A</td>\n      <td>...</td>\n      <td>19725661.0</td>\n      <td>14699576.0</td>\n      <td>17587794.0</td>\n      <td>6163408.0</td>\n      <td>229584621.0</td>\n      <td>395630.0</td>\n      <td>410692588.0</td>\n      <td>4215763.0</td>\n      <td>27883638.0</td>\n      <td>279807335.0</td>\n    </tr>\n    <tr>\n      <th>3</th>\n      <td>1.311448e+19</td>\n      <td>2019-04-10 00:31:00</td>\n      <td>486.0</td>\n      <td>2019-04-25 07:36:00</td>\n      <td>171.0</td>\n      <td>1321509.0</td>\n      <td>2.082014e+14</td>\n      <td>3.375034e+10</td>\n      <td>3.535661e+13</td>\n      <td>T21824A</td>\n      <td>...</td>\n      <td>21388122.0</td>\n      <td>15146643.0</td>\n      <td>13994646.0</td>\n      <td>1097942.0</td>\n      <td>799538153.0</td>\n      <td>10849722.0</td>\n      <td>749039933.0</td>\n      <td>12797283.0</td>\n      <td>43324218.0</td>\n      <td>846028530.0</td>\n    </tr>\n    <tr>\n      <th>4</th>\n      <td>1.311448e+19</td>\n      <td>2019-04-12 20:10:00</td>\n      <td>565.0</td>\n      <td>2019-04-25 10:40:00</td>\n      <td>954.0</td>\n      <td>1089009.0</td>\n      <td>2.082014e+14</td>\n      <td>3.369980e+10</td>\n      <td>3.540701e+13</td>\n      <td>D88865A</td>\n      <td>...</td>\n      <td>15259380.0</td>\n      <td>18962873.0</td>\n      <td>17124581.0</td>\n      <td>415218.0</td>\n      <td>527707248.0</td>\n      <td>3529801.0</td>\n      <td>550709500.0</td>\n      <td>13910322.0</td>\n      <td>38542814.0</td>\n      <td>569138589.0</td>\n    </tr>\n  </tbody>\n</table>\n<p>5 rows × 55 columns</p>\n</div>"
     },
     "execution_count": 159,
     "metadata": {},
     "output_type": "execute_result"
    }
   ],
   "source": [
    "db = pd.read_csv(path, keep_default_na=True, na_values=['undefined'], parse_dates=['Start', 'End'])\n",
    "db.head()"
   ],
   "metadata": {
    "collapsed": false,
    "pycharm": {
     "name": "#%%\n"
    }
   }
  },
  {
   "cell_type": "code",
   "execution_count": 160,
   "outputs": [
    {
     "data": {
      "text/plain": "['Bearer Id',\n 'Start',\n 'Start ms',\n 'End',\n 'End ms',\n 'Dur. (ms)',\n 'IMSI',\n 'MSISDN/Number',\n 'IMEI',\n 'Last Location Name',\n 'Avg RTT DL (ms)',\n 'Avg RTT UL (ms)',\n 'Avg Bearer TP DL (kbps)',\n 'Avg Bearer TP UL (kbps)',\n 'TCP DL Retrans. Vol (Bytes)',\n 'TCP UL Retrans. Vol (Bytes)',\n 'DL TP < 50 Kbps (%)',\n '50 Kbps < DL TP < 250 Kbps (%)',\n '250 Kbps < DL TP < 1 Mbps (%)',\n 'DL TP > 1 Mbps (%)',\n 'UL TP < 10 Kbps (%)',\n '10 Kbps < UL TP < 50 Kbps (%)',\n '50 Kbps < UL TP < 300 Kbps (%)',\n 'UL TP > 300 Kbps (%)',\n 'HTTP DL (Bytes)',\n 'HTTP UL (Bytes)',\n 'Activity Duration DL (ms)',\n 'Activity Duration UL (ms)',\n 'Dur. (ms).1',\n 'Handset Manufacturer',\n 'Handset Type',\n 'Nb of sec with 125000B < Vol DL',\n 'Nb of sec with 1250B < Vol UL < 6250B',\n 'Nb of sec with 31250B < Vol DL < 125000B',\n 'Nb of sec with 37500B < Vol UL',\n 'Nb of sec with 6250B < Vol DL < 31250B',\n 'Nb of sec with 6250B < Vol UL < 37500B',\n 'Nb of sec with Vol DL < 6250B',\n 'Nb of sec with Vol UL < 1250B',\n 'Social Media DL (Bytes)',\n 'Social Media UL (Bytes)',\n 'Google DL (Bytes)',\n 'Google UL (Bytes)',\n 'Email DL (Bytes)',\n 'Email UL (Bytes)',\n 'Youtube DL (Bytes)',\n 'Youtube UL (Bytes)',\n 'Netflix DL (Bytes)',\n 'Netflix UL (Bytes)',\n 'Gaming DL (Bytes)',\n 'Gaming UL (Bytes)',\n 'Other DL (Bytes)',\n 'Other UL (Bytes)',\n 'Total UL (Bytes)',\n 'Total DL (Bytes)']"
     },
     "execution_count": 160,
     "metadata": {},
     "output_type": "execute_result"
    }
   ],
   "source": [
    "# column names\n",
    "db.columns.tolist()"
   ],
   "metadata": {
    "collapsed": false,
    "pycharm": {
     "name": "#%%\n"
    }
   }
  },
  {
   "cell_type": "code",
   "execution_count": 161,
   "outputs": [
    {
     "name": "stdout",
     "output_type": "stream",
     "text": [
      " There are 150001 rows and 55 columns\n"
     ]
    }
   ],
   "source": [
    "# number of data points\n",
    "print(f\" There are {db.shape[0]} rows and {db.shape[1]} columns\")"
   ],
   "metadata": {
    "collapsed": false,
    "pycharm": {
     "name": "#%%\n"
    }
   }
  },
  {
   "cell_type": "code",
   "execution_count": 162,
   "outputs": [
    {
     "name": "stdout",
     "output_type": "stream",
     "text": [
      "<class 'pandas.core.frame.DataFrame'>\n",
      "RangeIndex: 150001 entries, 0 to 150000\n",
      "Data columns (total 55 columns):\n",
      " #   Column                                    Non-Null Count   Dtype         \n",
      "---  ------                                    --------------   -----         \n",
      " 0   Bearer Id                                 149010 non-null  float64       \n",
      " 1   Start                                     150000 non-null  datetime64[ns]\n",
      " 2   Start ms                                  150000 non-null  float64       \n",
      " 3   End                                       150000 non-null  datetime64[ns]\n",
      " 4   End ms                                    150000 non-null  float64       \n",
      " 5   Dur. (ms)                                 150000 non-null  float64       \n",
      " 6   IMSI                                      149431 non-null  float64       \n",
      " 7   MSISDN/Number                             148935 non-null  float64       \n",
      " 8   IMEI                                      149429 non-null  float64       \n",
      " 9   Last Location Name                        148848 non-null  object        \n",
      " 10  Avg RTT DL (ms)                           122172 non-null  float64       \n",
      " 11  Avg RTT UL (ms)                           122189 non-null  float64       \n",
      " 12  Avg Bearer TP DL (kbps)                   150000 non-null  float64       \n",
      " 13  Avg Bearer TP UL (kbps)                   150000 non-null  float64       \n",
      " 14  TCP DL Retrans. Vol (Bytes)               61855 non-null   float64       \n",
      " 15  TCP UL Retrans. Vol (Bytes)               53352 non-null   float64       \n",
      " 16  DL TP < 50 Kbps (%)                       149247 non-null  float64       \n",
      " 17  50 Kbps < DL TP < 250 Kbps (%)            149247 non-null  float64       \n",
      " 18  250 Kbps < DL TP < 1 Mbps (%)             149247 non-null  float64       \n",
      " 19  DL TP > 1 Mbps (%)                        149247 non-null  float64       \n",
      " 20  UL TP < 10 Kbps (%)                       149209 non-null  float64       \n",
      " 21  10 Kbps < UL TP < 50 Kbps (%)             149209 non-null  float64       \n",
      " 22  50 Kbps < UL TP < 300 Kbps (%)            149209 non-null  float64       \n",
      " 23  UL TP > 300 Kbps (%)                      149209 non-null  float64       \n",
      " 24  HTTP DL (Bytes)                           68527 non-null   float64       \n",
      " 25  HTTP UL (Bytes)                           68191 non-null   float64       \n",
      " 26  Activity Duration DL (ms)                 150000 non-null  float64       \n",
      " 27  Activity Duration UL (ms)                 150000 non-null  float64       \n",
      " 28  Dur. (ms).1                               150000 non-null  float64       \n",
      " 29  Handset Manufacturer                      140442 non-null  object        \n",
      " 30  Handset Type                              140442 non-null  object        \n",
      " 31  Nb of sec with 125000B < Vol DL           52463 non-null   float64       \n",
      " 32  Nb of sec with 1250B < Vol UL < 6250B     57107 non-null   float64       \n",
      " 33  Nb of sec with 31250B < Vol DL < 125000B  56415 non-null   float64       \n",
      " 34  Nb of sec with 37500B < Vol UL            19747 non-null   float64       \n",
      " 35  Nb of sec with 6250B < Vol DL < 31250B    61684 non-null   float64       \n",
      " 36  Nb of sec with 6250B < Vol UL < 37500B    38158 non-null   float64       \n",
      " 37  Nb of sec with Vol DL < 6250B             149246 non-null  float64       \n",
      " 38  Nb of sec with Vol UL < 1250B             149208 non-null  float64       \n",
      " 39  Social Media DL (Bytes)                   150001 non-null  float64       \n",
      " 40  Social Media UL (Bytes)                   150001 non-null  float64       \n",
      " 41  Google DL (Bytes)                         150001 non-null  float64       \n",
      " 42  Google UL (Bytes)                         150001 non-null  float64       \n",
      " 43  Email DL (Bytes)                          150001 non-null  float64       \n",
      " 44  Email UL (Bytes)                          150001 non-null  float64       \n",
      " 45  Youtube DL (Bytes)                        150001 non-null  float64       \n",
      " 46  Youtube UL (Bytes)                        150001 non-null  float64       \n",
      " 47  Netflix DL (Bytes)                        150001 non-null  float64       \n",
      " 48  Netflix UL (Bytes)                        150001 non-null  float64       \n",
      " 49  Gaming DL (Bytes)                         150001 non-null  float64       \n",
      " 50  Gaming UL (Bytes)                         150001 non-null  float64       \n",
      " 51  Other DL (Bytes)                          150001 non-null  float64       \n",
      " 52  Other UL (Bytes)                          150001 non-null  float64       \n",
      " 53  Total UL (Bytes)                          150000 non-null  float64       \n",
      " 54  Total DL (Bytes)                          150000 non-null  float64       \n",
      "dtypes: datetime64[ns](2), float64(50), object(3)\n",
      "memory usage: 62.9+ MB\n"
     ]
    }
   ],
   "source": [
    "# information about the columns\n",
    "db.info()"
   ],
   "metadata": {
    "collapsed": false,
    "pycharm": {
     "name": "#%%\n"
    }
   }
  },
  {
   "cell_type": "markdown",
   "source": [
    "<h2>Data Cleaning</h2>\n",
    "<hr>"
   ],
   "metadata": {
    "collapsed": false,
    "pycharm": {
     "name": "#%% md\n"
    }
   }
  },
  {
   "cell_type": "code",
   "execution_count": 163,
   "outputs": [],
   "source": [
    "# how many missing values exist or better still what is the % of missing values in the dataset?\n",
    "def percent_missing(df):\n",
    "\n",
    "    # Calculate total number of cells in dataframe\n",
    "    total_cells = np.product(df.shape)\n",
    "\n",
    "    # Count number of missing values per column\n",
    "    missing_count = df.isnull().sum()\n",
    "\n",
    "    # Calculate total number of missing values\n",
    "    total_missing = missing_count.sum()\n",
    "\n",
    "    # Calculate percentage of missing values\n",
    "    print(round(((total_missing/total_cells) * 100), 2), \"%\", \"missing values.\")"
   ],
   "metadata": {
    "collapsed": false,
    "pycharm": {
     "name": "#%%\n"
    }
   }
  },
  {
   "cell_type": "code",
   "execution_count": 164,
   "outputs": [
    {
     "name": "stdout",
     "output_type": "stream",
     "text": [
      "12.72 % missing values.\n"
     ]
    }
   ],
   "source": [
    "percent_missing(db)"
   ],
   "metadata": {
    "collapsed": false,
    "pycharm": {
     "name": "#%%\n"
    }
   }
  },
  {
   "cell_type": "code",
   "execution_count": 165,
   "outputs": [
    {
     "data": {
      "text/plain": "Bearer Id                                      991\nStart                                            1\nStart ms                                         1\nEnd                                              1\nEnd ms                                           1\nDur. (ms)                                        1\nIMSI                                           570\nMSISDN/Number                                 1066\nIMEI                                           572\nLast Location Name                            1153\nAvg RTT DL (ms)                              27829\nAvg RTT UL (ms)                              27812\nAvg Bearer TP DL (kbps)                          1\nAvg Bearer TP UL (kbps)                          1\nTCP DL Retrans. Vol (Bytes)                  88146\nTCP UL Retrans. Vol (Bytes)                  96649\nDL TP < 50 Kbps (%)                            754\n50 Kbps < DL TP < 250 Kbps (%)                 754\n250 Kbps < DL TP < 1 Mbps (%)                  754\nDL TP > 1 Mbps (%)                             754\nUL TP < 10 Kbps (%)                            792\n10 Kbps < UL TP < 50 Kbps (%)                  792\n50 Kbps < UL TP < 300 Kbps (%)                 792\nUL TP > 300 Kbps (%)                           792\nHTTP DL (Bytes)                              81474\nHTTP UL (Bytes)                              81810\nActivity Duration DL (ms)                        1\nActivity Duration UL (ms)                        1\nDur. (ms).1                                      1\nHandset Manufacturer                          9559\nHandset Type                                  9559\nNb of sec with 125000B < Vol DL              97538\nNb of sec with 1250B < Vol UL < 6250B        92894\nNb of sec with 31250B < Vol DL < 125000B     93586\nNb of sec with 37500B < Vol UL              130254\nNb of sec with 6250B < Vol DL < 31250B       88317\nNb of sec with 6250B < Vol UL < 37500B      111843\nNb of sec with Vol DL < 6250B                  755\nNb of sec with Vol UL < 1250B                  793\nSocial Media DL (Bytes)                          0\nSocial Media UL (Bytes)                          0\nGoogle DL (Bytes)                                0\nGoogle UL (Bytes)                                0\nEmail DL (Bytes)                                 0\nEmail UL (Bytes)                                 0\nYoutube DL (Bytes)                               0\nYoutube UL (Bytes)                               0\nNetflix DL (Bytes)                               0\nNetflix UL (Bytes)                               0\nGaming DL (Bytes)                                0\nGaming UL (Bytes)                                0\nOther DL (Bytes)                                 0\nOther UL (Bytes)                                 0\nTotal UL (Bytes)                                 1\nTotal DL (Bytes)                                 1\ndtype: int64"
     },
     "execution_count": 165,
     "metadata": {},
     "output_type": "execute_result"
    }
   ],
   "source": [
    "db.isna().sum()"
   ],
   "metadata": {
    "collapsed": false,
    "pycharm": {
     "name": "#%%\n"
    }
   }
  },
  {
   "cell_type": "code",
   "execution_count": 185,
   "outputs": [],
   "source": [
    "# remove missing values\n",
    "db.dropna(subset=['Start'], inplace=True)\n",
    "db.dropna(subset=['MSISDN/Number'], inplace=True)\n",
    "db.dropna(subset=['Bearer Id'], inplace=True)"
   ],
   "metadata": {
    "collapsed": false,
    "pycharm": {
     "name": "#%%\n"
    }
   }
  },
  {
   "cell_type": "code",
   "execution_count": 189,
   "outputs": [],
   "source": [
    "# replace Last Location Name with unknown\n",
    "db['Last Location Name'] = db['Last Location Name'].fillna(value='unknown')\n",
    "db['Handset Manufacturer'] = db['Handset Manufacturer'].fillna(value='unknown')\n",
    "db['Handset Type'] = db['Handset Type'].fillna(value='unknown')"
   ],
   "metadata": {
    "collapsed": false,
    "pycharm": {
     "name": "#%%\n"
    }
   }
  },
  {
   "cell_type": "code",
   "execution_count": 197,
   "outputs": [],
   "source": [
    "# fill missing cells with column mean\n",
    "db.fillna(db.mean(numeric_only=True).round(), inplace=True)"
   ],
   "metadata": {
    "collapsed": false,
    "pycharm": {
     "name": "#%%\n"
    }
   }
  },
  {
   "cell_type": "code",
   "execution_count": 198,
   "outputs": [
    {
     "data": {
      "text/plain": "Bearer Id                                   0\nStart                                       0\nStart ms                                    0\nEnd                                         0\nEnd ms                                      0\nDur. (ms)                                   0\nIMSI                                        0\nMSISDN/Number                               0\nIMEI                                        0\nLast Location Name                          0\nAvg RTT DL (ms)                             0\nAvg RTT UL (ms)                             0\nAvg Bearer TP DL (kbps)                     0\nAvg Bearer TP UL (kbps)                     0\nTCP DL Retrans. Vol (Bytes)                 0\nTCP UL Retrans. Vol (Bytes)                 0\nDL TP < 50 Kbps (%)                         0\n50 Kbps < DL TP < 250 Kbps (%)              0\n250 Kbps < DL TP < 1 Mbps (%)               0\nDL TP > 1 Mbps (%)                          0\nUL TP < 10 Kbps (%)                         0\n10 Kbps < UL TP < 50 Kbps (%)               0\n50 Kbps < UL TP < 300 Kbps (%)              0\nUL TP > 300 Kbps (%)                        0\nHTTP DL (Bytes)                             0\nHTTP UL (Bytes)                             0\nActivity Duration DL (ms)                   0\nActivity Duration UL (ms)                   0\nDur. (ms).1                                 0\nHandset Manufacturer                        0\nHandset Type                                0\nNb of sec with 125000B < Vol DL             0\nNb of sec with 1250B < Vol UL < 6250B       0\nNb of sec with 31250B < Vol DL < 125000B    0\nNb of sec with 37500B < Vol UL              0\nNb of sec with 6250B < Vol DL < 31250B      0\nNb of sec with 6250B < Vol UL < 37500B      0\nNb of sec with Vol DL < 6250B               0\nNb of sec with Vol UL < 1250B               0\nSocial Media DL (Bytes)                     0\nSocial Media UL (Bytes)                     0\nGoogle DL (Bytes)                           0\nGoogle UL (Bytes)                           0\nEmail DL (Bytes)                            0\nEmail UL (Bytes)                            0\nYoutube DL (Bytes)                          0\nYoutube UL (Bytes)                          0\nNetflix DL (Bytes)                          0\nNetflix UL (Bytes)                          0\nGaming DL (Bytes)                           0\nGaming UL (Bytes)                           0\nOther DL (Bytes)                            0\nOther UL (Bytes)                            0\nTotal UL (Bytes)                            0\nTotal DL (Bytes)                            0\ndtype: int64"
     },
     "execution_count": 198,
     "metadata": {},
     "output_type": "execute_result"
    }
   ],
   "source": [
    "db.isna().sum()"
   ],
   "metadata": {
    "collapsed": false,
    "pycharm": {
     "name": "#%%\n"
    }
   }
  },
  {
   "cell_type": "code",
   "execution_count": 200,
   "outputs": [],
   "source": [
    "db.to_csv('../data/clean_data.csv')"
   ],
   "metadata": {
    "collapsed": false,
    "pycharm": {
     "name": "#%%\n"
    }
   }
  },
  {
   "cell_type": "markdown",
   "source": [
    "<br>"
   ],
   "metadata": {
    "collapsed": false,
    "pycharm": {
     "name": "#%% md\n"
    }
   }
  },
  {
   "cell_type": "code",
   "execution_count": 166,
   "outputs": [
    {
     "data": {
      "text/plain": "Huawei B528S-23A                19752\nApple iPhone 6S (A1688)          9419\nApple iPhone 6 (A1586)           9023\nApple iPhone 7 (A1778)           6326\nApple iPhone Se (A1723)          5187\nApple iPhone 8 (A1905)           4993\nApple iPhone Xr (A2105)          4568\nSamsung Galaxy S8 (Sm-G950F)     4520\nApple iPhone X (A1901)           3813\nSamsung Galaxy A5 Sm-A520F       3724\nName: Handset Type, dtype: int64"
     },
     "execution_count": 166,
     "metadata": {},
     "output_type": "execute_result"
    }
   ],
   "source": [
    "# top 10 handsets used by the customers\n",
    "db['Handset Type'].value_counts().nlargest(10)"
   ],
   "metadata": {
    "collapsed": false,
    "pycharm": {
     "name": "#%%\n"
    }
   }
  },
  {
   "cell_type": "code",
   "execution_count": 167,
   "outputs": [
    {
     "data": {
      "text/plain": "Apple      59565\nSamsung    40839\nHuawei     34423\nName: Handset Manufacturer, dtype: int64"
     },
     "execution_count": 167,
     "metadata": {},
     "output_type": "execute_result"
    }
   ],
   "source": [
    "# top 3 handset manufacturers\n",
    "db['Handset Manufacturer'].value_counts().nlargest(3)"
   ],
   "metadata": {
    "collapsed": false,
    "pycharm": {
     "name": "#%%\n"
    }
   }
  },
  {
   "cell_type": "code",
   "execution_count": 168,
   "outputs": [
    {
     "data": {
      "text/plain": "Apple iPhone 6S (A1688)    9419\nApple iPhone 6 (A1586)     9023\nApple iPhone 7 (A1778)     6326\nApple iPhone Se (A1723)    5187\nApple iPhone 8 (A1905)     4993\nName: Handset Type, dtype: int64"
     },
     "execution_count": 168,
     "metadata": {},
     "output_type": "execute_result"
    }
   ],
   "source": [
    "# top 5 handsets per top 3 handset manufacturer\n",
    "db['Handset Type'].where(db['Handset Manufacturer'] == 'Apple').value_counts().nlargest(5)"
   ],
   "metadata": {
    "collapsed": false,
    "pycharm": {
     "name": "#%%\n"
    }
   }
  },
  {
   "cell_type": "code",
   "execution_count": 169,
   "outputs": [
    {
     "data": {
      "text/plain": "Samsung Galaxy S8 (Sm-G950F)    4520\nSamsung Galaxy A5 Sm-A520F      3724\nSamsung Galaxy J5 (Sm-J530)     3696\nSamsung Galaxy J3 (Sm-J330)     3484\nSamsung Galaxy S7 (Sm-G930X)    3199\nName: Handset Type, dtype: int64"
     },
     "execution_count": 169,
     "metadata": {},
     "output_type": "execute_result"
    }
   ],
   "source": [
    "# top 5 handsets per top 3 handset manufacturer\n",
    "db['Handset Type'].where(db['Handset Manufacturer'] == 'Samsung').value_counts().nlargest(5)"
   ],
   "metadata": {
    "collapsed": false,
    "pycharm": {
     "name": "#%%\n"
    }
   }
  },
  {
   "cell_type": "code",
   "execution_count": 170,
   "outputs": [
    {
     "data": {
      "text/plain": "Huawei B528S-23A                  19752\nHuawei E5180                       2079\nHuawei P20 Lite Huawei Nova 3E     2021\nHuawei P20                         1480\nHuawei Y6 2018                      997\nName: Handset Type, dtype: int64"
     },
     "execution_count": 170,
     "metadata": {},
     "output_type": "execute_result"
    }
   ],
   "source": [
    "# top 5 handsets per top 3 handset manufacturer\n",
    "db['Handset Type'].where(db['Handset Manufacturer'] == 'Huawei').value_counts().nlargest(5)"
   ],
   "metadata": {
    "collapsed": false,
    "pycharm": {
     "name": "#%%\n"
    }
   }
  },
  {
   "cell_type": "code",
   "execution_count": 171,
   "outputs": [
    {
     "data": {
      "text/plain": "               Session Count  Dur. (ms)  Total DL (Bytes)  Total UL (Bytes)  \\\nMSISDN/Number                                                                 \n3.360100e+10               1   116720.0      8.426375e+08        36053108.0   \n3.360100e+10               1   181230.0      1.207552e+08        36104459.0   \n3.360100e+10               1   134969.0      5.566597e+08        39306820.0   \n3.360101e+10               1    49878.0      4.019932e+08        20327526.0   \n3.360101e+10               2    37104.0      1.363130e+09        94280527.0   \n\n               Social Media DL (Bytes)  Social Media UL (Bytes)  \\\nMSISDN/Number                                                     \n3.360100e+10                 2206504.0                  25631.0   \n3.360100e+10                 2598548.0                  62017.0   \n3.360100e+10                 3148004.0                  47619.0   \n3.360101e+10                  251469.0                  28825.0   \n3.360101e+10                 2861230.0                  51312.0   \n\n               Email DL (Bytes)  Email UL (Bytes)  Google DL (Bytes)  \\\nMSISDN/Number                                                          \n3.360100e+10           837400.0          493962.0          3337123.0   \n3.360100e+10          2828821.0          478960.0          4197697.0   \n3.360100e+10          2436500.0          768880.0          3343483.0   \n3.360101e+10          2178618.0          106052.0          5937765.0   \n3.360101e+10          2247808.0         1057661.0         13728668.0   \n\n               Google UL (Bytes)  Netflix DL (Bytes)  Netflix UL (Bytes)  \\\nMSISDN/Number                                                              \n3.360100e+10           1051882.0          10265105.0          16915876.0   \n3.360100e+10           1137166.0            770569.0          10451194.0   \n3.360100e+10             99643.0          16525919.0           2827981.0   \n3.360101e+10           3740728.0           1157362.0            784730.0   \n3.360101e+10           4770948.0          24971647.0          24230077.0   \n\n               Youtube DL (Bytes)  Youtube UL (Bytes)  Gaming DL (Bytes)  \\\nMSISDN/Number                                                              \n3.360100e+10           14900201.0           6724347.0       8.110911e+08   \n3.360100e+10            5324251.0           7107972.0       1.050353e+08   \n3.360100e+10            2137272.0          19196298.0       5.290685e+08   \n3.360101e+10            4393123.0           2584198.0       3.880748e+08   \n3.360101e+10           10339971.0          31193031.0       1.308981e+09   \n\n               Gaming UL (Bytes)  Other DL (Bytes)  Other UL (Bytes)  \nMSISDN/Number                                                         \n3.360100e+10           1367528.0       377096990.0         9473882.0  \n3.360100e+10          14714780.0       279557701.0         2152370.0  \n3.360100e+10           9759228.0       495086501.0         6607171.0  \n3.360101e+10           3051292.0        25248001.0        10031701.0  \n3.360101e+10           5816727.0       777643713.0        27160771.0  ",
      "text/html": "<div>\n<style scoped>\n    .dataframe tbody tr th:only-of-type {\n        vertical-align: middle;\n    }\n\n    .dataframe tbody tr th {\n        vertical-align: top;\n    }\n\n    .dataframe thead th {\n        text-align: right;\n    }\n</style>\n<table border=\"1\" class=\"dataframe\">\n  <thead>\n    <tr style=\"text-align: right;\">\n      <th></th>\n      <th>Session Count</th>\n      <th>Dur. (ms)</th>\n      <th>Total DL (Bytes)</th>\n      <th>Total UL (Bytes)</th>\n      <th>Social Media DL (Bytes)</th>\n      <th>Social Media UL (Bytes)</th>\n      <th>Email DL (Bytes)</th>\n      <th>Email UL (Bytes)</th>\n      <th>Google DL (Bytes)</th>\n      <th>Google UL (Bytes)</th>\n      <th>Netflix DL (Bytes)</th>\n      <th>Netflix UL (Bytes)</th>\n      <th>Youtube DL (Bytes)</th>\n      <th>Youtube UL (Bytes)</th>\n      <th>Gaming DL (Bytes)</th>\n      <th>Gaming UL (Bytes)</th>\n      <th>Other DL (Bytes)</th>\n      <th>Other UL (Bytes)</th>\n    </tr>\n    <tr>\n      <th>MSISDN/Number</th>\n      <th></th>\n      <th></th>\n      <th></th>\n      <th></th>\n      <th></th>\n      <th></th>\n      <th></th>\n      <th></th>\n      <th></th>\n      <th></th>\n      <th></th>\n      <th></th>\n      <th></th>\n      <th></th>\n      <th></th>\n      <th></th>\n      <th></th>\n      <th></th>\n    </tr>\n  </thead>\n  <tbody>\n    <tr>\n      <th>3.360100e+10</th>\n      <td>1</td>\n      <td>116720.0</td>\n      <td>8.426375e+08</td>\n      <td>36053108.0</td>\n      <td>2206504.0</td>\n      <td>25631.0</td>\n      <td>837400.0</td>\n      <td>493962.0</td>\n      <td>3337123.0</td>\n      <td>1051882.0</td>\n      <td>10265105.0</td>\n      <td>16915876.0</td>\n      <td>14900201.0</td>\n      <td>6724347.0</td>\n      <td>8.110911e+08</td>\n      <td>1367528.0</td>\n      <td>377096990.0</td>\n      <td>9473882.0</td>\n    </tr>\n    <tr>\n      <th>3.360100e+10</th>\n      <td>1</td>\n      <td>181230.0</td>\n      <td>1.207552e+08</td>\n      <td>36104459.0</td>\n      <td>2598548.0</td>\n      <td>62017.0</td>\n      <td>2828821.0</td>\n      <td>478960.0</td>\n      <td>4197697.0</td>\n      <td>1137166.0</td>\n      <td>770569.0</td>\n      <td>10451194.0</td>\n      <td>5324251.0</td>\n      <td>7107972.0</td>\n      <td>1.050353e+08</td>\n      <td>14714780.0</td>\n      <td>279557701.0</td>\n      <td>2152370.0</td>\n    </tr>\n    <tr>\n      <th>3.360100e+10</th>\n      <td>1</td>\n      <td>134969.0</td>\n      <td>5.566597e+08</td>\n      <td>39306820.0</td>\n      <td>3148004.0</td>\n      <td>47619.0</td>\n      <td>2436500.0</td>\n      <td>768880.0</td>\n      <td>3343483.0</td>\n      <td>99643.0</td>\n      <td>16525919.0</td>\n      <td>2827981.0</td>\n      <td>2137272.0</td>\n      <td>19196298.0</td>\n      <td>5.290685e+08</td>\n      <td>9759228.0</td>\n      <td>495086501.0</td>\n      <td>6607171.0</td>\n    </tr>\n    <tr>\n      <th>3.360101e+10</th>\n      <td>1</td>\n      <td>49878.0</td>\n      <td>4.019932e+08</td>\n      <td>20327526.0</td>\n      <td>251469.0</td>\n      <td>28825.0</td>\n      <td>2178618.0</td>\n      <td>106052.0</td>\n      <td>5937765.0</td>\n      <td>3740728.0</td>\n      <td>1157362.0</td>\n      <td>784730.0</td>\n      <td>4393123.0</td>\n      <td>2584198.0</td>\n      <td>3.880748e+08</td>\n      <td>3051292.0</td>\n      <td>25248001.0</td>\n      <td>10031701.0</td>\n    </tr>\n    <tr>\n      <th>3.360101e+10</th>\n      <td>2</td>\n      <td>37104.0</td>\n      <td>1.363130e+09</td>\n      <td>94280527.0</td>\n      <td>2861230.0</td>\n      <td>51312.0</td>\n      <td>2247808.0</td>\n      <td>1057661.0</td>\n      <td>13728668.0</td>\n      <td>4770948.0</td>\n      <td>24971647.0</td>\n      <td>24230077.0</td>\n      <td>10339971.0</td>\n      <td>31193031.0</td>\n      <td>1.308981e+09</td>\n      <td>5816727.0</td>\n      <td>777643713.0</td>\n      <td>27160771.0</td>\n    </tr>\n  </tbody>\n</table>\n</div>"
     },
     "execution_count": 171,
     "metadata": {},
     "output_type": "execute_result"
    }
   ],
   "source": [
    "user_db = db.groupby('MSISDN/Number').agg({\n",
    "    \"Bearer Id\": \"count\",\n",
    "    \"Dur. (ms)\": \"sum\",\n",
    "    \"Total DL (Bytes)\": \"sum\",\n",
    "    \"Total UL (Bytes)\": \"sum\",\n",
    "    \"Social Media DL (Bytes)\": \"sum\",\n",
    "    \"Social Media UL (Bytes)\": \"sum\",\n",
    "    \"Email DL (Bytes)\": \"sum\",\n",
    "    \"Email UL (Bytes)\": \"sum\",\n",
    "    \"Google DL (Bytes)\": \"sum\",\n",
    "    \"Google UL (Bytes)\": \"sum\",\n",
    "    \"Netflix DL (Bytes)\": \"sum\",\n",
    "    \"Netflix UL (Bytes)\": \"sum\",\n",
    "    \"Youtube DL (Bytes)\": \"sum\",\n",
    "    \"Youtube UL (Bytes)\": \"sum\",\n",
    "    \"Gaming DL (Bytes)\": \"sum\",\n",
    "    \"Gaming UL (Bytes)\": \"sum\",\n",
    "    \"Other DL (Bytes)\": \"sum\",\n",
    "    \"Other UL (Bytes)\": \"sum\",\n",
    "}).rename(columns={\n",
    "    \"Bearer Id\": \"Session Count\"\n",
    "})\n",
    "user_db.head()"
   ],
   "metadata": {
    "collapsed": false,
    "pycharm": {
     "name": "#%%\n"
    }
   }
  },
  {
   "cell_type": "code",
   "execution_count": 172,
   "outputs": [],
   "source": [
    "user_db[\"Total Data Transferred\"] = user_db[\"Total UL (Bytes)\"] + user_db[\"Total DL (Bytes)\"]"
   ],
   "metadata": {
    "collapsed": false,
    "pycharm": {
     "name": "#%%\n"
    }
   }
  },
  {
   "cell_type": "code",
   "execution_count": 173,
   "outputs": [],
   "source": [
    "user_db[\"Google Volume\"] = user_db[\"Google UL (Bytes)\"] + user_db[\"Google DL (Bytes)\"]\n",
    "user_db[\"Netflix Volume\"] = user_db[\"Netflix UL (Bytes)\"] + user_db[\"Netflix DL (Bytes)\"]\n",
    "user_db[\"Youtube Volume\"] = user_db[\"Youtube UL (Bytes)\"] + user_db[\"Youtube DL (Bytes)\"]\n",
    "user_db[\"Gaming Volume\"] = user_db[\"Gaming UL (Bytes)\"] + user_db[\"Gaming DL (Bytes)\"]\n",
    "user_db[\"Email Volume\"] = user_db[\"Email UL (Bytes)\"] + user_db[\"Email DL (Bytes)\"]\n",
    "user_db[\"Social Media Volume\"] = user_db[\"Social Media UL (Bytes)\"] + user_db[\"Social Media DL (Bytes)\"]\n",
    "user_db[\"Other Volume\"] = user_db[\"Other UL (Bytes)\"] + user_db[\"Other DL (Bytes)\"]"
   ],
   "metadata": {
    "collapsed": false,
    "pycharm": {
     "name": "#%%\n"
    }
   }
  },
  {
   "cell_type": "code",
   "execution_count": 174,
   "outputs": [],
   "source": [
    "user_db[\"Total Volume\"] = user_db[\"Google Volume\"] + user_db[\"Netflix Volume\"] + user_db[\"Youtube Volume\"] + user_db[\"Gaming Volume\"] + user_db[\"Other Volume\"] + user_db[\"Social Media Volume\"] + user_db[\"Email Volume\"]"
   ],
   "metadata": {
    "collapsed": false,
    "pycharm": {
     "name": "#%%\n"
    }
   }
  },
  {
   "cell_type": "code",
   "execution_count": 175,
   "outputs": [
    {
     "data": {
      "text/plain": "               Session Count  Dur. (ms)  Total DL (Bytes)  Total UL (Bytes)  \\\nMSISDN/Number                                                                 \n3.360100e+10               1   116720.0      8.426375e+08        36053108.0   \n3.360100e+10               1   181230.0      1.207552e+08        36104459.0   \n3.360100e+10               1   134969.0      5.566597e+08        39306820.0   \n3.360101e+10               1    49878.0      4.019932e+08        20327526.0   \n3.360101e+10               2    37104.0      1.363130e+09        94280527.0   \n\n               Social Media DL (Bytes)  Social Media UL (Bytes)  \\\nMSISDN/Number                                                     \n3.360100e+10                 2206504.0                  25631.0   \n3.360100e+10                 2598548.0                  62017.0   \n3.360100e+10                 3148004.0                  47619.0   \n3.360101e+10                  251469.0                  28825.0   \n3.360101e+10                 2861230.0                  51312.0   \n\n               Email DL (Bytes)  Email UL (Bytes)  Google DL (Bytes)  \\\nMSISDN/Number                                                          \n3.360100e+10           837400.0          493962.0          3337123.0   \n3.360100e+10          2828821.0          478960.0          4197697.0   \n3.360100e+10          2436500.0          768880.0          3343483.0   \n3.360101e+10          2178618.0          106052.0          5937765.0   \n3.360101e+10          2247808.0         1057661.0         13728668.0   \n\n               Google UL (Bytes)  ...  Other UL (Bytes)  \\\nMSISDN/Number                     ...                     \n3.360100e+10           1051882.0  ...         9473882.0   \n3.360100e+10           1137166.0  ...         2152370.0   \n3.360100e+10             99643.0  ...         6607171.0   \n3.360101e+10           3740728.0  ...        10031701.0   \n3.360101e+10           4770948.0  ...        27160771.0   \n\n               Total Data Transferred  Google Volume  Netflix Volume  \\\nMSISDN/Number                                                          \n3.360100e+10             8.786906e+08      4389005.0      27180981.0   \n3.360100e+10             1.568596e+08      5334863.0      11221763.0   \n3.360100e+10             5.959665e+08      3443126.0      19353900.0   \n3.360101e+10             4.223207e+08      9678493.0       1942092.0   \n3.360101e+10             1.457411e+09     18499616.0      49201724.0   \n\n               Youtube Volume  Gaming Volume  Email Volume  \\\nMSISDN/Number                                                \n3.360100e+10       21624548.0   8.124587e+08     1331362.0   \n3.360100e+10       12432223.0   1.197501e+08     3307781.0   \n3.360100e+10       21333570.0   5.388277e+08     3205380.0   \n3.360101e+10        6977321.0   3.911261e+08     2284670.0   \n3.360101e+10       41533002.0   1.314798e+09     3305469.0   \n\n               Social Media Volume  Other Volume  Total Volume  \nMSISDN/Number                                                   \n3.360100e+10             2232135.0   386570872.0  1.255788e+09  \n3.360100e+10             2660565.0   281710071.0  4.364173e+08  \n3.360100e+10             3195623.0   501693672.0  1.091053e+09  \n3.360101e+10              280294.0    35279702.0  4.475687e+08  \n3.360101e+10             2912542.0   804804484.0  2.235055e+09  \n\n[5 rows x 27 columns]",
      "text/html": "<div>\n<style scoped>\n    .dataframe tbody tr th:only-of-type {\n        vertical-align: middle;\n    }\n\n    .dataframe tbody tr th {\n        vertical-align: top;\n    }\n\n    .dataframe thead th {\n        text-align: right;\n    }\n</style>\n<table border=\"1\" class=\"dataframe\">\n  <thead>\n    <tr style=\"text-align: right;\">\n      <th></th>\n      <th>Session Count</th>\n      <th>Dur. (ms)</th>\n      <th>Total DL (Bytes)</th>\n      <th>Total UL (Bytes)</th>\n      <th>Social Media DL (Bytes)</th>\n      <th>Social Media UL (Bytes)</th>\n      <th>Email DL (Bytes)</th>\n      <th>Email UL (Bytes)</th>\n      <th>Google DL (Bytes)</th>\n      <th>Google UL (Bytes)</th>\n      <th>...</th>\n      <th>Other UL (Bytes)</th>\n      <th>Total Data Transferred</th>\n      <th>Google Volume</th>\n      <th>Netflix Volume</th>\n      <th>Youtube Volume</th>\n      <th>Gaming Volume</th>\n      <th>Email Volume</th>\n      <th>Social Media Volume</th>\n      <th>Other Volume</th>\n      <th>Total Volume</th>\n    </tr>\n    <tr>\n      <th>MSISDN/Number</th>\n      <th></th>\n      <th></th>\n      <th></th>\n      <th></th>\n      <th></th>\n      <th></th>\n      <th></th>\n      <th></th>\n      <th></th>\n      <th></th>\n      <th></th>\n      <th></th>\n      <th></th>\n      <th></th>\n      <th></th>\n      <th></th>\n      <th></th>\n      <th></th>\n      <th></th>\n      <th></th>\n      <th></th>\n    </tr>\n  </thead>\n  <tbody>\n    <tr>\n      <th>3.360100e+10</th>\n      <td>1</td>\n      <td>116720.0</td>\n      <td>8.426375e+08</td>\n      <td>36053108.0</td>\n      <td>2206504.0</td>\n      <td>25631.0</td>\n      <td>837400.0</td>\n      <td>493962.0</td>\n      <td>3337123.0</td>\n      <td>1051882.0</td>\n      <td>...</td>\n      <td>9473882.0</td>\n      <td>8.786906e+08</td>\n      <td>4389005.0</td>\n      <td>27180981.0</td>\n      <td>21624548.0</td>\n      <td>8.124587e+08</td>\n      <td>1331362.0</td>\n      <td>2232135.0</td>\n      <td>386570872.0</td>\n      <td>1.255788e+09</td>\n    </tr>\n    <tr>\n      <th>3.360100e+10</th>\n      <td>1</td>\n      <td>181230.0</td>\n      <td>1.207552e+08</td>\n      <td>36104459.0</td>\n      <td>2598548.0</td>\n      <td>62017.0</td>\n      <td>2828821.0</td>\n      <td>478960.0</td>\n      <td>4197697.0</td>\n      <td>1137166.0</td>\n      <td>...</td>\n      <td>2152370.0</td>\n      <td>1.568596e+08</td>\n      <td>5334863.0</td>\n      <td>11221763.0</td>\n      <td>12432223.0</td>\n      <td>1.197501e+08</td>\n      <td>3307781.0</td>\n      <td>2660565.0</td>\n      <td>281710071.0</td>\n      <td>4.364173e+08</td>\n    </tr>\n    <tr>\n      <th>3.360100e+10</th>\n      <td>1</td>\n      <td>134969.0</td>\n      <td>5.566597e+08</td>\n      <td>39306820.0</td>\n      <td>3148004.0</td>\n      <td>47619.0</td>\n      <td>2436500.0</td>\n      <td>768880.0</td>\n      <td>3343483.0</td>\n      <td>99643.0</td>\n      <td>...</td>\n      <td>6607171.0</td>\n      <td>5.959665e+08</td>\n      <td>3443126.0</td>\n      <td>19353900.0</td>\n      <td>21333570.0</td>\n      <td>5.388277e+08</td>\n      <td>3205380.0</td>\n      <td>3195623.0</td>\n      <td>501693672.0</td>\n      <td>1.091053e+09</td>\n    </tr>\n    <tr>\n      <th>3.360101e+10</th>\n      <td>1</td>\n      <td>49878.0</td>\n      <td>4.019932e+08</td>\n      <td>20327526.0</td>\n      <td>251469.0</td>\n      <td>28825.0</td>\n      <td>2178618.0</td>\n      <td>106052.0</td>\n      <td>5937765.0</td>\n      <td>3740728.0</td>\n      <td>...</td>\n      <td>10031701.0</td>\n      <td>4.223207e+08</td>\n      <td>9678493.0</td>\n      <td>1942092.0</td>\n      <td>6977321.0</td>\n      <td>3.911261e+08</td>\n      <td>2284670.0</td>\n      <td>280294.0</td>\n      <td>35279702.0</td>\n      <td>4.475687e+08</td>\n    </tr>\n    <tr>\n      <th>3.360101e+10</th>\n      <td>2</td>\n      <td>37104.0</td>\n      <td>1.363130e+09</td>\n      <td>94280527.0</td>\n      <td>2861230.0</td>\n      <td>51312.0</td>\n      <td>2247808.0</td>\n      <td>1057661.0</td>\n      <td>13728668.0</td>\n      <td>4770948.0</td>\n      <td>...</td>\n      <td>27160771.0</td>\n      <td>1.457411e+09</td>\n      <td>18499616.0</td>\n      <td>49201724.0</td>\n      <td>41533002.0</td>\n      <td>1.314798e+09</td>\n      <td>3305469.0</td>\n      <td>2912542.0</td>\n      <td>804804484.0</td>\n      <td>2.235055e+09</td>\n    </tr>\n  </tbody>\n</table>\n<p>5 rows × 27 columns</p>\n</div>"
     },
     "execution_count": 175,
     "metadata": {},
     "output_type": "execute_result"
    }
   ],
   "source": [
    "user_db.head()"
   ],
   "metadata": {
    "collapsed": false,
    "pycharm": {
     "name": "#%%\n"
    }
   }
  },
  {
   "cell_type": "code",
   "execution_count": 176,
   "outputs": [],
   "source": [
    "user_db_clean = user_db[['Session Count', 'Dur. (ms)', 'Total Data Transferred', 'Social Media Volume', 'Google Volume',  'Email Volume', 'Youtube Volume', 'Netflix Volume', 'Gaming Volume', 'Other Volume']]"
   ],
   "metadata": {
    "collapsed": false,
    "pycharm": {
     "name": "#%%\n"
    }
   }
  },
  {
   "cell_type": "code",
   "execution_count": 177,
   "outputs": [
    {
     "data": {
      "text/plain": "       Session Count     Dur. (ms)  Total Data Transferred  \\\ncount  106856.000000  1.068560e+05            1.068560e+05   \nmean        1.389777  1.461672e+05            6.909621e+08   \nstd         0.809863  1.863587e+05            4.910559e+08   \nmin         0.000000  7.142000e+03            3.324901e+07   \n25%         1.000000  7.130800e+04            3.585499e+08   \n50%         1.000000  1.027400e+05            6.179231e+08   \n75%         2.000000  1.727990e+05            8.574351e+08   \nmax        18.000000  1.855375e+07            8.846226e+09   \n\n       Social Media Volume  Google Volume  Email Volume  Youtube Volume  \\\ncount         1.068560e+05   1.068560e+05  1.068560e+05    1.068560e+05   \nmean          2.547967e+06   1.088243e+07  3.148796e+06    3.155840e+07   \nstd           1.908038e+06   7.544861e+06  2.222400e+06    2.129492e+07   \nmin           1.563000e+03   4.033000e+04  1.817600e+04    7.890300e+04   \n25%           1.211282e+06   5.942636e+06  1.674481e+06    1.863109e+07   \n50%           2.303756e+06   9.586153e+06  2.799824e+06    2.680038e+07   \n75%           3.307509e+06   1.321474e+07  3.847198e+06    3.792798e+07   \nmax           4.337478e+07   1.521919e+08  4.241878e+07    4.529588e+08   \n\n       Netflix Volume  Gaming Volume  Other Volume  \ncount    1.068560e+05   1.068560e+05  1.068560e+05  \nmean     3.153833e+07   5.997690e+08  5.985088e+08  \nstd      2.128956e+07   4.491505e+08  4.489221e+08  \nmin      1.845690e+05   3.063580e+05  1.490450e+05  \n25%      1.855597e+07   2.880631e+08  2.855599e+08  \n50%      2.671889e+07   5.423492e+08  5.398323e+08  \n75%      3.797696e+07   7.773041e+08  7.753975e+08  \nmax      3.995191e+08   7.749432e+09  8.167878e+09  ",
      "text/html": "<div>\n<style scoped>\n    .dataframe tbody tr th:only-of-type {\n        vertical-align: middle;\n    }\n\n    .dataframe tbody tr th {\n        vertical-align: top;\n    }\n\n    .dataframe thead th {\n        text-align: right;\n    }\n</style>\n<table border=\"1\" class=\"dataframe\">\n  <thead>\n    <tr style=\"text-align: right;\">\n      <th></th>\n      <th>Session Count</th>\n      <th>Dur. (ms)</th>\n      <th>Total Data Transferred</th>\n      <th>Social Media Volume</th>\n      <th>Google Volume</th>\n      <th>Email Volume</th>\n      <th>Youtube Volume</th>\n      <th>Netflix Volume</th>\n      <th>Gaming Volume</th>\n      <th>Other Volume</th>\n    </tr>\n  </thead>\n  <tbody>\n    <tr>\n      <th>count</th>\n      <td>106856.000000</td>\n      <td>1.068560e+05</td>\n      <td>1.068560e+05</td>\n      <td>1.068560e+05</td>\n      <td>1.068560e+05</td>\n      <td>1.068560e+05</td>\n      <td>1.068560e+05</td>\n      <td>1.068560e+05</td>\n      <td>1.068560e+05</td>\n      <td>1.068560e+05</td>\n    </tr>\n    <tr>\n      <th>mean</th>\n      <td>1.389777</td>\n      <td>1.461672e+05</td>\n      <td>6.909621e+08</td>\n      <td>2.547967e+06</td>\n      <td>1.088243e+07</td>\n      <td>3.148796e+06</td>\n      <td>3.155840e+07</td>\n      <td>3.153833e+07</td>\n      <td>5.997690e+08</td>\n      <td>5.985088e+08</td>\n    </tr>\n    <tr>\n      <th>std</th>\n      <td>0.809863</td>\n      <td>1.863587e+05</td>\n      <td>4.910559e+08</td>\n      <td>1.908038e+06</td>\n      <td>7.544861e+06</td>\n      <td>2.222400e+06</td>\n      <td>2.129492e+07</td>\n      <td>2.128956e+07</td>\n      <td>4.491505e+08</td>\n      <td>4.489221e+08</td>\n    </tr>\n    <tr>\n      <th>min</th>\n      <td>0.000000</td>\n      <td>7.142000e+03</td>\n      <td>3.324901e+07</td>\n      <td>1.563000e+03</td>\n      <td>4.033000e+04</td>\n      <td>1.817600e+04</td>\n      <td>7.890300e+04</td>\n      <td>1.845690e+05</td>\n      <td>3.063580e+05</td>\n      <td>1.490450e+05</td>\n    </tr>\n    <tr>\n      <th>25%</th>\n      <td>1.000000</td>\n      <td>7.130800e+04</td>\n      <td>3.585499e+08</td>\n      <td>1.211282e+06</td>\n      <td>5.942636e+06</td>\n      <td>1.674481e+06</td>\n      <td>1.863109e+07</td>\n      <td>1.855597e+07</td>\n      <td>2.880631e+08</td>\n      <td>2.855599e+08</td>\n    </tr>\n    <tr>\n      <th>50%</th>\n      <td>1.000000</td>\n      <td>1.027400e+05</td>\n      <td>6.179231e+08</td>\n      <td>2.303756e+06</td>\n      <td>9.586153e+06</td>\n      <td>2.799824e+06</td>\n      <td>2.680038e+07</td>\n      <td>2.671889e+07</td>\n      <td>5.423492e+08</td>\n      <td>5.398323e+08</td>\n    </tr>\n    <tr>\n      <th>75%</th>\n      <td>2.000000</td>\n      <td>1.727990e+05</td>\n      <td>8.574351e+08</td>\n      <td>3.307509e+06</td>\n      <td>1.321474e+07</td>\n      <td>3.847198e+06</td>\n      <td>3.792798e+07</td>\n      <td>3.797696e+07</td>\n      <td>7.773041e+08</td>\n      <td>7.753975e+08</td>\n    </tr>\n    <tr>\n      <th>max</th>\n      <td>18.000000</td>\n      <td>1.855375e+07</td>\n      <td>8.846226e+09</td>\n      <td>4.337478e+07</td>\n      <td>1.521919e+08</td>\n      <td>4.241878e+07</td>\n      <td>4.529588e+08</td>\n      <td>3.995191e+08</td>\n      <td>7.749432e+09</td>\n      <td>8.167878e+09</td>\n    </tr>\n  </tbody>\n</table>\n</div>"
     },
     "execution_count": 177,
     "metadata": {},
     "output_type": "execute_result"
    }
   ],
   "source": [
    "user_db_clean.describe()"
   ],
   "metadata": {
    "collapsed": false,
    "pycharm": {
     "name": "#%%\n"
    }
   }
  }
 ],
 "metadata": {
  "kernelspec": {
   "display_name": "Python 3",
   "language": "python",
   "name": "python3"
  },
  "language_info": {
   "codemirror_mode": {
    "name": "ipython",
    "version": 2
   },
   "file_extension": ".py",
   "mimetype": "text/x-python",
   "name": "python",
   "nbconvert_exporter": "python",
   "pygments_lexer": "ipython2",
   "version": "2.7.6"
  }
 },
 "nbformat": 4,
 "nbformat_minor": 0
}