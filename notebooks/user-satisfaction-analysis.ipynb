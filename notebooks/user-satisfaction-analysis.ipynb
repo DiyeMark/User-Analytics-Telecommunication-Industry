{
 "cells": [
  {
   "cell_type": "code",
   "execution_count": 164,
   "outputs": [],
   "source": [
    "import pandas as pd\n",
    "import numpy as np\n",
    "import os\n",
    "import matplotlib.pyplot as plt\n",
    "import seaborn as sns\n",
    "from sklearn.preprocessing import MinMaxScaler\n",
    "from sklearn.cluster import KMeans\n",
    "from sklearn.metrics.pairwise import euclidean_distances\n",
    "%matplotlib inline"
   ],
   "metadata": {
    "collapsed": false,
    "pycharm": {
     "name": "#%%\n"
    }
   }
  },
  {
   "cell_type": "code",
   "execution_count": 165,
   "outputs": [],
   "source": [
    "pwd = os.getcwd()\n",
    "file_path = os.path.join(pwd, os.pardir, 'data/clean_data.csv')"
   ],
   "metadata": {
    "collapsed": false,
    "pycharm": {
     "name": "#%%\n"
    }
   }
  },
  {
   "cell_type": "code",
   "execution_count": 166,
   "outputs": [],
   "source": [
    "data = pd.read_csv(file_path, parse_dates=[\"Start\", \"End\"])"
   ],
   "metadata": {
    "collapsed": false,
    "pycharm": {
     "name": "#%%\n"
    }
   }
  },
  {
   "cell_type": "code",
   "execution_count": 167,
   "outputs": [],
   "source": [
    "data_modified = data.copy()"
   ],
   "metadata": {
    "collapsed": false,
    "pycharm": {
     "name": "#%%\n"
    }
   }
  },
  {
   "cell_type": "code",
   "execution_count": 168,
   "outputs": [],
   "source": [
    "user_agg_engagement = data_modified.groupby([\"MSISDN/Number\"], as_index=False).agg({'Bearer Id':'count', \"Dur. (ms)\": \"sum\", \"Total UL (Bytes)\": \"sum\", \"Total DL (Bytes)\": \"sum\",  \"Social Media UL (Bytes)\": \"sum\", \"Social Media DL (Bytes)\": \"sum\", \"Google UL (Bytes)\": \"sum\", \"Google DL (Bytes)\": \"sum\", \"Email UL (Bytes)\": \"sum\", \"Email DL (Bytes)\": \"sum\", \"Youtube UL (Bytes)\": \"sum\", \"Youtube DL (Bytes)\": \"sum\", \"Netflix UL (Bytes)\": \"sum\", \"Netflix DL (Bytes)\": \"sum\", \"Gaming UL (Bytes)\": \"sum\", \"Gaming DL (Bytes)\": \"sum\", \"Other UL (Bytes)\": \"sum\", \"Other DL (Bytes)\": \"sum\"})\n",
    "user_agg_engagement.reset_index(drop=True, inplace=True)"
   ],
   "metadata": {
    "collapsed": false,
    "pycharm": {
     "name": "#%%\n"
    }
   }
  },
  {
   "cell_type": "code",
   "execution_count": 169,
   "outputs": [],
   "source": [
    "user_agg_engagement[\"MSISDN/Number\"] = user_agg_engagement[\"MSISDN/Number\"].astype(str)"
   ],
   "metadata": {
    "collapsed": false,
    "pycharm": {
     "name": "#%%\n"
    }
   }
  },
  {
   "cell_type": "code",
   "execution_count": 170,
   "outputs": [],
   "source": [
    "user_agg_engagement.rename(columns={\"Bearer Id\": \"Session Count\"}, inplace=True)"
   ],
   "metadata": {
    "collapsed": false,
    "pycharm": {
     "name": "#%%\n"
    }
   }
  },
  {
   "cell_type": "code",
   "execution_count": 171,
   "outputs": [],
   "source": [
    "user_agg_engagement[\"Total Data Transferred\"] = user_agg_engagement[\"Total UL (Bytes)\"] + user_agg_engagement[\"Total DL (Bytes)\"]"
   ],
   "metadata": {
    "collapsed": false,
    "pycharm": {
     "name": "#%%\n"
    }
   }
  },
  {
   "cell_type": "code",
   "execution_count": 172,
   "outputs": [],
   "source": [
    "user_agg_engagement[\"Google Volume (Bytes)\"] = user_agg_engagement[\"Google UL (Bytes)\"] + user_agg_engagement[\"Google DL (Bytes)\"]\n",
    "user_agg_engagement[\"Netflix Volume (Bytes)\"] = user_agg_engagement[\"Netflix UL (Bytes)\"] + user_agg_engagement[\"Netflix DL (Bytes)\"]\n",
    "user_agg_engagement[\"Youtube Volume (Bytes)\"] = user_agg_engagement[\"Youtube UL (Bytes)\"] + user_agg_engagement[\"Youtube DL (Bytes)\"]\n",
    "user_agg_engagement[\"Gaming Volume (Bytes)\"] = user_agg_engagement[\"Gaming UL (Bytes)\"] + user_agg_engagement[\"Gaming DL (Bytes)\"]\n",
    "user_agg_engagement[\"Email Volume (Bytes)\"] = user_agg_engagement[\"Email UL (Bytes)\"] + user_agg_engagement[\"Email DL (Bytes)\"]\n",
    "user_agg_engagement[\"Social Media Volume (Bytes)\"] = user_agg_engagement[\"Social Media UL (Bytes)\"] + user_agg_engagement[\"Social Media DL (Bytes)\"]\n",
    "user_agg_engagement[\"Other Volume (Bytes)\"] = user_agg_engagement[\"Other UL (Bytes)\"] + user_agg_engagement[\"Other DL (Bytes)\"]"
   ],
   "metadata": {
    "collapsed": false,
    "pycharm": {
     "name": "#%%\n"
    }
   }
  },
  {
   "cell_type": "code",
   "execution_count": 173,
   "outputs": [],
   "source": [
    "volume_per_user = user_agg_engagement.drop(columns=[\n",
    "    \"Total UL (Bytes)\",\n",
    "    \"Total DL (Bytes)\",\n",
    "    \"Social Media UL (Bytes)\",\n",
    "    \"Social Media DL (Bytes)\",\n",
    "    \"Google UL (Bytes)\",\n",
    "    \"Google DL (Bytes)\",\n",
    "    \"Email UL (Bytes)\",\n",
    "    \"Email DL (Bytes)\",\n",
    "    \"Youtube UL (Bytes)\",\n",
    "    \"Youtube DL (Bytes)\",\n",
    "    \"Netflix UL (Bytes)\",\n",
    "    \"Netflix DL (Bytes)\",\n",
    "    \"Gaming UL (Bytes)\",\n",
    "    \"Gaming DL (Bytes)\",\n",
    "    \"Other UL (Bytes)\",\n",
    "    \"Other DL (Bytes)\"\n",
    "])"
   ],
   "metadata": {
    "collapsed": false,
    "pycharm": {
     "name": "#%%\n"
    }
   }
  },
  {
   "cell_type": "code",
   "execution_count": 174,
   "outputs": [],
   "source": [
    "# to convert the scientific notation to decimal format\n",
    "pd.set_option('display.float_format', lambda x: '%.2f' % x)"
   ],
   "metadata": {
    "collapsed": false,
    "pycharm": {
     "name": "#%%\n"
    }
   }
  },
  {
   "cell_type": "code",
   "execution_count": 175,
   "outputs": [
    {
     "data": {
      "text/plain": "   MSISDN/Number  Session Count  Dur. (ms)  Total Data Transferred  \\\n0  33601001722.0              1  116720.00            878690574.00   \n1  33601001754.0              1  181230.00            156859643.00   \n2  33601002511.0              1  134969.00            595966483.00   \n3  33601007832.0              1   49878.00            422320698.00   \n4  33601008617.0              2   37104.00           1457410944.00   \n\n   Google Volume (Bytes)  Netflix Volume (Bytes)  Youtube Volume (Bytes)  \\\n0             4389005.00             27180981.00             21624548.00   \n1             5334863.00             11221763.00             12432223.00   \n2             3443126.00             19353900.00             21333570.00   \n3             9678493.00              1942092.00              6977321.00   \n4            18499616.00             49201724.00             41533002.00   \n\n   Gaming Volume (Bytes)  Email Volume (Bytes)  Social Media Volume (Bytes)  \\\n0           812458661.00            1331362.00                   2232135.00   \n1           119750078.00            3307781.00                   2660565.00   \n2           538827713.00            3205380.00                   3195623.00   \n3           391126127.00            2284670.00                    280294.00   \n4          1314797820.00            3305469.00                   2912542.00   \n\n   Other Volume (Bytes)  \n0          386570872.00  \n1          281710071.00  \n2          501693672.00  \n3           35279702.00  \n4          804804484.00  ",
      "text/html": "<div>\n<style scoped>\n    .dataframe tbody tr th:only-of-type {\n        vertical-align: middle;\n    }\n\n    .dataframe tbody tr th {\n        vertical-align: top;\n    }\n\n    .dataframe thead th {\n        text-align: right;\n    }\n</style>\n<table border=\"1\" class=\"dataframe\">\n  <thead>\n    <tr style=\"text-align: right;\">\n      <th></th>\n      <th>MSISDN/Number</th>\n      <th>Session Count</th>\n      <th>Dur. (ms)</th>\n      <th>Total Data Transferred</th>\n      <th>Google Volume (Bytes)</th>\n      <th>Netflix Volume (Bytes)</th>\n      <th>Youtube Volume (Bytes)</th>\n      <th>Gaming Volume (Bytes)</th>\n      <th>Email Volume (Bytes)</th>\n      <th>Social Media Volume (Bytes)</th>\n      <th>Other Volume (Bytes)</th>\n    </tr>\n  </thead>\n  <tbody>\n    <tr>\n      <th>0</th>\n      <td>33601001722.0</td>\n      <td>1</td>\n      <td>116720.00</td>\n      <td>878690574.00</td>\n      <td>4389005.00</td>\n      <td>27180981.00</td>\n      <td>21624548.00</td>\n      <td>812458661.00</td>\n      <td>1331362.00</td>\n      <td>2232135.00</td>\n      <td>386570872.00</td>\n    </tr>\n    <tr>\n      <th>1</th>\n      <td>33601001754.0</td>\n      <td>1</td>\n      <td>181230.00</td>\n      <td>156859643.00</td>\n      <td>5334863.00</td>\n      <td>11221763.00</td>\n      <td>12432223.00</td>\n      <td>119750078.00</td>\n      <td>3307781.00</td>\n      <td>2660565.00</td>\n      <td>281710071.00</td>\n    </tr>\n    <tr>\n      <th>2</th>\n      <td>33601002511.0</td>\n      <td>1</td>\n      <td>134969.00</td>\n      <td>595966483.00</td>\n      <td>3443126.00</td>\n      <td>19353900.00</td>\n      <td>21333570.00</td>\n      <td>538827713.00</td>\n      <td>3205380.00</td>\n      <td>3195623.00</td>\n      <td>501693672.00</td>\n    </tr>\n    <tr>\n      <th>3</th>\n      <td>33601007832.0</td>\n      <td>1</td>\n      <td>49878.00</td>\n      <td>422320698.00</td>\n      <td>9678493.00</td>\n      <td>1942092.00</td>\n      <td>6977321.00</td>\n      <td>391126127.00</td>\n      <td>2284670.00</td>\n      <td>280294.00</td>\n      <td>35279702.00</td>\n    </tr>\n    <tr>\n      <th>4</th>\n      <td>33601008617.0</td>\n      <td>2</td>\n      <td>37104.00</td>\n      <td>1457410944.00</td>\n      <td>18499616.00</td>\n      <td>49201724.00</td>\n      <td>41533002.00</td>\n      <td>1314797820.00</td>\n      <td>3305469.00</td>\n      <td>2912542.00</td>\n      <td>804804484.00</td>\n    </tr>\n  </tbody>\n</table>\n</div>"
     },
     "execution_count": 175,
     "metadata": {},
     "output_type": "execute_result"
    }
   ],
   "source": [
    "volume_per_user.head()"
   ],
   "metadata": {
    "collapsed": false,
    "pycharm": {
     "name": "#%%\n"
    }
   }
  },
  {
   "cell_type": "code",
   "execution_count": 176,
   "outputs": [],
   "source": [
    "plt.style.use('seaborn')"
   ],
   "metadata": {
    "collapsed": false,
    "pycharm": {
     "name": "#%%\n"
    }
   }
  },
  {
   "cell_type": "code",
   "execution_count": 177,
   "outputs": [],
   "source": [
    "kmeans = KMeans(n_clusters=3)"
   ],
   "metadata": {
    "collapsed": false,
    "pycharm": {
     "name": "#%%\n"
    }
   }
  },
  {
   "cell_type": "code",
   "execution_count": 178,
   "outputs": [],
   "source": [
    "engagement_metrics = volume_per_user[[\"Session Count\", \"Dur. (ms)\", \"Total Data Transferred\"]]"
   ],
   "metadata": {
    "collapsed": false,
    "pycharm": {
     "name": "#%%\n"
    }
   }
  },
  {
   "cell_type": "code",
   "execution_count": 179,
   "outputs": [
    {
     "data": {
      "text/plain": "        Session Count  Dur. (ms)  Total Data Transferred\n0                   1  116720.00            878690574.00\n1                   1  181230.00            156859643.00\n2                   1  134969.00            595966483.00\n3                   1   49878.00            422320698.00\n4                   2   37104.00           1457410944.00\n...               ...        ...                     ...\n106466              1    8810.00            714641641.00\n106467              1  140988.00            480307335.00\n106468              1  877385.00            232123971.00\n106469              1  253030.00            596287824.00\n106470              1  869844.00            139153646.00\n\n[106471 rows x 3 columns]",
      "text/html": "<div>\n<style scoped>\n    .dataframe tbody tr th:only-of-type {\n        vertical-align: middle;\n    }\n\n    .dataframe tbody tr th {\n        vertical-align: top;\n    }\n\n    .dataframe thead th {\n        text-align: right;\n    }\n</style>\n<table border=\"1\" class=\"dataframe\">\n  <thead>\n    <tr style=\"text-align: right;\">\n      <th></th>\n      <th>Session Count</th>\n      <th>Dur. (ms)</th>\n      <th>Total Data Transferred</th>\n    </tr>\n  </thead>\n  <tbody>\n    <tr>\n      <th>0</th>\n      <td>1</td>\n      <td>116720.00</td>\n      <td>878690574.00</td>\n    </tr>\n    <tr>\n      <th>1</th>\n      <td>1</td>\n      <td>181230.00</td>\n      <td>156859643.00</td>\n    </tr>\n    <tr>\n      <th>2</th>\n      <td>1</td>\n      <td>134969.00</td>\n      <td>595966483.00</td>\n    </tr>\n    <tr>\n      <th>3</th>\n      <td>1</td>\n      <td>49878.00</td>\n      <td>422320698.00</td>\n    </tr>\n    <tr>\n      <th>4</th>\n      <td>2</td>\n      <td>37104.00</td>\n      <td>1457410944.00</td>\n    </tr>\n    <tr>\n      <th>...</th>\n      <td>...</td>\n      <td>...</td>\n      <td>...</td>\n    </tr>\n    <tr>\n      <th>106466</th>\n      <td>1</td>\n      <td>8810.00</td>\n      <td>714641641.00</td>\n    </tr>\n    <tr>\n      <th>106467</th>\n      <td>1</td>\n      <td>140988.00</td>\n      <td>480307335.00</td>\n    </tr>\n    <tr>\n      <th>106468</th>\n      <td>1</td>\n      <td>877385.00</td>\n      <td>232123971.00</td>\n    </tr>\n    <tr>\n      <th>106469</th>\n      <td>1</td>\n      <td>253030.00</td>\n      <td>596287824.00</td>\n    </tr>\n    <tr>\n      <th>106470</th>\n      <td>1</td>\n      <td>869844.00</td>\n      <td>139153646.00</td>\n    </tr>\n  </tbody>\n</table>\n<p>106471 rows × 3 columns</p>\n</div>"
     },
     "execution_count": 179,
     "metadata": {},
     "output_type": "execute_result"
    }
   ],
   "source": [
    "engagement_metrics"
   ],
   "metadata": {
    "collapsed": false,
    "pycharm": {
     "name": "#%%\n"
    }
   }
  },
  {
   "cell_type": "code",
   "execution_count": 180,
   "outputs": [
    {
     "data": {
      "text/plain": "array([0, 2, 0, ..., 2, 0, 2], dtype=int32)"
     },
     "execution_count": 180,
     "metadata": {},
     "output_type": "execute_result"
    }
   ],
   "source": [
    "kmeans.fit_predict(engagement_metrics)"
   ],
   "metadata": {
    "collapsed": false,
    "pycharm": {
     "name": "#%%\n"
    }
   }
  },
  {
   "cell_type": "code",
   "execution_count": 181,
   "outputs": [
    {
     "data": {
      "text/plain": "array([[1.38691335e+00, 1.38939017e+05, 8.26169584e+08],\n       [3.12285950e+00, 3.74200626e+05, 1.83940317e+09],\n       [1.06023456e+00, 1.08944545e+05, 3.32553102e+08]])"
     },
     "execution_count": 181,
     "metadata": {},
     "output_type": "execute_result"
    }
   ],
   "source": [
    "kmeans.cluster_centers_"
   ],
   "metadata": {
    "collapsed": false,
    "pycharm": {
     "name": "#%%\n"
    }
   }
  },
  {
   "cell_type": "code",
   "execution_count": 182,
   "outputs": [
    {
     "data": {
      "text/plain": "array([1.38691335e+00, 1.38939017e+05, 8.26169584e+08])"
     },
     "execution_count": 182,
     "metadata": {},
     "output_type": "execute_result"
    }
   ],
   "source": [
    "kmeans.cluster_centers_[0]"
   ],
   "metadata": {
    "collapsed": false,
    "pycharm": {
     "name": "#%%\n"
    }
   }
  },
  {
   "cell_type": "code",
   "execution_count": 183,
   "outputs": [],
   "source": [
    "least_eng = kmeans.cluster_centers_[0]\n",
    "eng_distances = []\n",
    "for index,row in engagement_metrics.iterrows():\n",
    "    x = row['Session Count']\n",
    "    y = row['Dur. (ms)']\n",
    "    z = row['Total Data Transferred']\n",
    "\n",
    "    ec_dis = ( (x - least_eng[0])**2 + (y - least_eng[1])**2 + (z - least_eng[2])**2)**0.5\n",
    "\n",
    "    eng_distances.append(ec_dis)"
   ],
   "metadata": {
    "collapsed": false,
    "pycharm": {
     "name": "#%%\n"
    }
   }
  },
  {
   "cell_type": "code",
   "execution_count": 184,
   "outputs": [],
   "source": [
    "user_agg = data_modified.groupby([\"MSISDN/Number\"], as_index=False).agg({'TCP DL Retrans. Vol (Bytes)':'sum', \"TCP UL Retrans. Vol (Bytes)\": \"sum\", \"Avg RTT DL (ms)\": \"sum\", \"Avg RTT UL (ms)\": \"sum\",  \"Avg Bearer TP DL (kbps)\": \"sum\", \"Avg Bearer TP UL (kbps)\": \"sum\", 'Handset Type': 'first' })\n",
    "user_agg.reset_index(drop=True, inplace=True)"
   ],
   "metadata": {
    "collapsed": false,
    "pycharm": {
     "name": "#%%\n"
    }
   }
  },
  {
   "cell_type": "code",
   "execution_count": 185,
   "outputs": [],
   "source": [
    "user_agg[\"MSISDN/Number\"] = user_agg[\"MSISDN/Number\"].astype(str)"
   ],
   "metadata": {
    "collapsed": false,
    "pycharm": {
     "name": "#%%\n"
    }
   }
  },
  {
   "cell_type": "code",
   "execution_count": 186,
   "outputs": [],
   "source": [
    "transmission_per_user = pd.DataFrame()\n",
    "transmission_per_user[\"MSISDN/Number\"] = user_agg[\"MSISDN/Number\"]\n",
    "transmission_per_user[\"Average TCP Retransmission\"] = user_agg[\"TCP DL Retrans. Vol (Bytes)\"] + user_agg[\"TCP UL Retrans. Vol (Bytes)\"]\n",
    "transmission_per_user[\"Average RTT\"] = user_agg[\"Avg RTT DL (ms)\"] + user_agg[\"Avg RTT UL (ms)\"]\n",
    "transmission_per_user[\"Average throughput\"] = user_agg[\"Avg Bearer TP DL (kbps)\"] + user_agg[\"Avg Bearer TP UL (kbps)\"]\n",
    "transmission_per_user[\"Handset Type\"] = user_agg[\"Handset Type\"]"
   ],
   "metadata": {
    "collapsed": false,
    "pycharm": {
     "name": "#%%\n"
    }
   }
  },
  {
   "cell_type": "code",
   "execution_count": 187,
   "outputs": [
    {
     "data": {
      "text/plain": "   MSISDN/Number  Average TCP Retransmission  Average RTT  Average throughput  \\\n0  33601001722.0                 21777861.00        46.00               76.00   \n1  33601001754.0                 21777861.00        31.00               99.00   \n2  33601002511.0                 21777861.00       124.00               97.00   \n3  33601007832.0                   772118.00        84.00              248.00   \n4  33601008617.0                 31148693.00       119.00            56844.00   \n\n                     Handset Type  \n0  Huawei P20 Lite Huawei Nova 3E  \n1          Apple iPhone 7 (A1778)  \n2                         unknown  \n3         Apple iPhone 5S (A1457)  \n4         Apple iPhone Se (A1723)  ",
      "text/html": "<div>\n<style scoped>\n    .dataframe tbody tr th:only-of-type {\n        vertical-align: middle;\n    }\n\n    .dataframe tbody tr th {\n        vertical-align: top;\n    }\n\n    .dataframe thead th {\n        text-align: right;\n    }\n</style>\n<table border=\"1\" class=\"dataframe\">\n  <thead>\n    <tr style=\"text-align: right;\">\n      <th></th>\n      <th>MSISDN/Number</th>\n      <th>Average TCP Retransmission</th>\n      <th>Average RTT</th>\n      <th>Average throughput</th>\n      <th>Handset Type</th>\n    </tr>\n  </thead>\n  <tbody>\n    <tr>\n      <th>0</th>\n      <td>33601001722.0</td>\n      <td>21777861.00</td>\n      <td>46.00</td>\n      <td>76.00</td>\n      <td>Huawei P20 Lite Huawei Nova 3E</td>\n    </tr>\n    <tr>\n      <th>1</th>\n      <td>33601001754.0</td>\n      <td>21777861.00</td>\n      <td>31.00</td>\n      <td>99.00</td>\n      <td>Apple iPhone 7 (A1778)</td>\n    </tr>\n    <tr>\n      <th>2</th>\n      <td>33601002511.0</td>\n      <td>21777861.00</td>\n      <td>124.00</td>\n      <td>97.00</td>\n      <td>unknown</td>\n    </tr>\n    <tr>\n      <th>3</th>\n      <td>33601007832.0</td>\n      <td>772118.00</td>\n      <td>84.00</td>\n      <td>248.00</td>\n      <td>Apple iPhone 5S (A1457)</td>\n    </tr>\n    <tr>\n      <th>4</th>\n      <td>33601008617.0</td>\n      <td>31148693.00</td>\n      <td>119.00</td>\n      <td>56844.00</td>\n      <td>Apple iPhone Se (A1723)</td>\n    </tr>\n  </tbody>\n</table>\n</div>"
     },
     "execution_count": 187,
     "metadata": {},
     "output_type": "execute_result"
    }
   ],
   "source": [
    "transmission_per_user.head()"
   ],
   "metadata": {
    "collapsed": false,
    "pycharm": {
     "name": "#%%\n"
    }
   }
  },
  {
   "cell_type": "code",
   "execution_count": 188,
   "outputs": [
    {
     "data": {
      "text/plain": "array([0, 0, 0, ..., 0, 0, 0], dtype=int32)"
     },
     "execution_count": 188,
     "metadata": {},
     "output_type": "execute_result"
    }
   ],
   "source": [
    "experience_kmeans = KMeans(n_clusters=3)\n",
    "experience_y_predicted = experience_kmeans.fit_predict(transmission_per_user[[\"Average TCP Retransmission\",\"Average RTT\", \"Average throughput\"]])\n",
    "experience_y_predicted"
   ],
   "metadata": {
    "collapsed": false,
    "pycharm": {
     "name": "#%%\n"
    }
   }
  },
  {
   "cell_type": "code",
   "execution_count": 189,
   "outputs": [
    {
     "data": {
      "text/plain": "array([2.27285454e+07, 1.72102346e+02, 2.05841226e+04])"
     },
     "execution_count": 189,
     "metadata": {},
     "output_type": "execute_result"
    }
   ],
   "source": [
    "experience_kmeans.cluster_centers_[0]"
   ],
   "metadata": {
    "collapsed": false,
    "pycharm": {
     "name": "#%%\n"
    }
   }
  },
  {
   "cell_type": "code",
   "execution_count": 190,
   "outputs": [],
   "source": [
    "exp_metrics = transmission_per_user[[\"Average TCP Retransmission\",\"Average RTT\", \"Average throughput\"]]"
   ],
   "metadata": {
    "collapsed": false,
    "pycharm": {
     "name": "#%%\n"
    }
   }
  },
  {
   "cell_type": "code",
   "execution_count": 191,
   "outputs": [],
   "source": [
    "least_exp = kmeans.cluster_centers_[0]\n",
    "exp_distances = []\n",
    "for index,row in exp_metrics.iterrows():\n",
    "    x = row['Average TCP Retransmission']\n",
    "    y = row['Average RTT']\n",
    "    z = row['Average throughput']\n",
    "\n",
    "    ec_dis = ( (x - least_exp[0])**2 + (y - least_exp[1])**2 + (z - least_exp[2])**2)**0.5\n",
    "\n",
    "    exp_distances.append(ec_dis)"
   ],
   "metadata": {
    "collapsed": false,
    "pycharm": {
     "name": "#%%\n"
    }
   }
  },
  {
   "cell_type": "code",
   "execution_count": 192,
   "outputs": [],
   "source": [
    "satisfaction = pd.DataFrame({\"eng_score\": eng_distances, \"exp_score\": exp_distances})"
   ],
   "metadata": {
    "collapsed": false,
    "pycharm": {
     "name": "#%%\n"
    }
   }
  },
  {
   "cell_type": "code",
   "execution_count": 193,
   "outputs": [],
   "source": [
    "satisfaction[\"MSISDN/Number\"] = volume_per_user[\"MSISDN/Number\"]"
   ],
   "metadata": {
    "collapsed": false,
    "pycharm": {
     "name": "#%%\n"
    }
   }
  },
  {
   "cell_type": "code",
   "execution_count": 194,
   "outputs": [
    {
     "data": {
      "text/plain": "     eng_score    exp_score  MSISDN/Number\n0  52520994.21 826456502.92  33601001722.0\n1 669309942.82 826456479.93  33601001754.0\n2 230203101.52 826456481.91  33601002511.0\n3 403848896.31 826169708.95  33601007832.0\n4 631241367.73 826699776.37  33601008617.0",
      "text/html": "<div>\n<style scoped>\n    .dataframe tbody tr th:only-of-type {\n        vertical-align: middle;\n    }\n\n    .dataframe tbody tr th {\n        vertical-align: top;\n    }\n\n    .dataframe thead th {\n        text-align: right;\n    }\n</style>\n<table border=\"1\" class=\"dataframe\">\n  <thead>\n    <tr style=\"text-align: right;\">\n      <th></th>\n      <th>eng_score</th>\n      <th>exp_score</th>\n      <th>MSISDN/Number</th>\n    </tr>\n  </thead>\n  <tbody>\n    <tr>\n      <th>0</th>\n      <td>52520994.21</td>\n      <td>826456502.92</td>\n      <td>33601001722.0</td>\n    </tr>\n    <tr>\n      <th>1</th>\n      <td>669309942.82</td>\n      <td>826456479.93</td>\n      <td>33601001754.0</td>\n    </tr>\n    <tr>\n      <th>2</th>\n      <td>230203101.52</td>\n      <td>826456481.91</td>\n      <td>33601002511.0</td>\n    </tr>\n    <tr>\n      <th>3</th>\n      <td>403848896.31</td>\n      <td>826169708.95</td>\n      <td>33601007832.0</td>\n    </tr>\n    <tr>\n      <th>4</th>\n      <td>631241367.73</td>\n      <td>826699776.37</td>\n      <td>33601008617.0</td>\n    </tr>\n  </tbody>\n</table>\n</div>"
     },
     "execution_count": 194,
     "metadata": {},
     "output_type": "execute_result"
    }
   ],
   "source": [
    "satisfaction.head()"
   ],
   "metadata": {
    "collapsed": false,
    "pycharm": {
     "name": "#%%\n"
    }
   }
  },
  {
   "cell_type": "code",
   "execution_count": 195,
   "outputs": [],
   "source": [
    "cols = satisfaction.loc[: , \"eng_score\":\"exp_score\"]\n",
    "satisfaction[\"satisfaction_score\"] = cols.mean(axis=1)"
   ],
   "metadata": {
    "collapsed": false,
    "pycharm": {
     "name": "#%%\n"
    }
   }
  },
  {
   "cell_type": "code",
   "execution_count": 196,
   "outputs": [
    {
     "data": {
      "text/plain": "     eng_score    exp_score  MSISDN/Number  satisfaction_score\n0  52520994.21 826456502.92  33601001722.0        439488748.57\n1 669309942.82 826456479.93  33601001754.0        747883211.37\n2 230203101.52 826456481.91  33601002511.0        528329791.72\n3 403848896.31 826169708.95  33601007832.0        615009302.63\n4 631241367.73 826699776.37  33601008617.0        728970572.05",
      "text/html": "<div>\n<style scoped>\n    .dataframe tbody tr th:only-of-type {\n        vertical-align: middle;\n    }\n\n    .dataframe tbody tr th {\n        vertical-align: top;\n    }\n\n    .dataframe thead th {\n        text-align: right;\n    }\n</style>\n<table border=\"1\" class=\"dataframe\">\n  <thead>\n    <tr style=\"text-align: right;\">\n      <th></th>\n      <th>eng_score</th>\n      <th>exp_score</th>\n      <th>MSISDN/Number</th>\n      <th>satisfaction_score</th>\n    </tr>\n  </thead>\n  <tbody>\n    <tr>\n      <th>0</th>\n      <td>52520994.21</td>\n      <td>826456502.92</td>\n      <td>33601001722.0</td>\n      <td>439488748.57</td>\n    </tr>\n    <tr>\n      <th>1</th>\n      <td>669309942.82</td>\n      <td>826456479.93</td>\n      <td>33601001754.0</td>\n      <td>747883211.37</td>\n    </tr>\n    <tr>\n      <th>2</th>\n      <td>230203101.52</td>\n      <td>826456481.91</td>\n      <td>33601002511.0</td>\n      <td>528329791.72</td>\n    </tr>\n    <tr>\n      <th>3</th>\n      <td>403848896.31</td>\n      <td>826169708.95</td>\n      <td>33601007832.0</td>\n      <td>615009302.63</td>\n    </tr>\n    <tr>\n      <th>4</th>\n      <td>631241367.73</td>\n      <td>826699776.37</td>\n      <td>33601008617.0</td>\n      <td>728970572.05</td>\n    </tr>\n  </tbody>\n</table>\n</div>"
     },
     "execution_count": 196,
     "metadata": {},
     "output_type": "execute_result"
    }
   ],
   "source": [
    "satisfaction.head()"
   ],
   "metadata": {
    "collapsed": false,
    "pycharm": {
     "name": "#%%\n"
    }
   }
  },
  {
   "cell_type": "code",
   "execution_count": 197,
   "outputs": [
    {
     "data": {
      "text/plain": "          eng_score     exp_score  MSISDN/Number  satisfaction_score\n66616 1379317766.65 8394923387.25  33667725464.0       4887120576.95\n6404  8020062931.21  836817636.29  33614892860.0       4428440283.75\n33988  826661995.26 7984694976.08  33659084281.0       4405678485.67\n42210 1345990470.65 7421017253.39  33660977522.0       4383503862.02\n92584 7688609811.79  863655016.45  33760536639.0       4276132414.12\n13123 7673473233.50  867347993.81  33625779332.0       4270410613.65\n97859 2436771311.14 5937669520.57  33762644658.0       4187220415.85\n13467 7145002916.14  859964399.67  33626320676.0       4002483657.91\n76077 7064942604.89  842998667.24  33675877202.0       3953970636.06\n36909 6879694301.95  830830181.43  33659725664.0       3855262241.69",
      "text/html": "<div>\n<style scoped>\n    .dataframe tbody tr th:only-of-type {\n        vertical-align: middle;\n    }\n\n    .dataframe tbody tr th {\n        vertical-align: top;\n    }\n\n    .dataframe thead th {\n        text-align: right;\n    }\n</style>\n<table border=\"1\" class=\"dataframe\">\n  <thead>\n    <tr style=\"text-align: right;\">\n      <th></th>\n      <th>eng_score</th>\n      <th>exp_score</th>\n      <th>MSISDN/Number</th>\n      <th>satisfaction_score</th>\n    </tr>\n  </thead>\n  <tbody>\n    <tr>\n      <th>66616</th>\n      <td>1379317766.65</td>\n      <td>8394923387.25</td>\n      <td>33667725464.0</td>\n      <td>4887120576.95</td>\n    </tr>\n    <tr>\n      <th>6404</th>\n      <td>8020062931.21</td>\n      <td>836817636.29</td>\n      <td>33614892860.0</td>\n      <td>4428440283.75</td>\n    </tr>\n    <tr>\n      <th>33988</th>\n      <td>826661995.26</td>\n      <td>7984694976.08</td>\n      <td>33659084281.0</td>\n      <td>4405678485.67</td>\n    </tr>\n    <tr>\n      <th>42210</th>\n      <td>1345990470.65</td>\n      <td>7421017253.39</td>\n      <td>33660977522.0</td>\n      <td>4383503862.02</td>\n    </tr>\n    <tr>\n      <th>92584</th>\n      <td>7688609811.79</td>\n      <td>863655016.45</td>\n      <td>33760536639.0</td>\n      <td>4276132414.12</td>\n    </tr>\n    <tr>\n      <th>13123</th>\n      <td>7673473233.50</td>\n      <td>867347993.81</td>\n      <td>33625779332.0</td>\n      <td>4270410613.65</td>\n    </tr>\n    <tr>\n      <th>97859</th>\n      <td>2436771311.14</td>\n      <td>5937669520.57</td>\n      <td>33762644658.0</td>\n      <td>4187220415.85</td>\n    </tr>\n    <tr>\n      <th>13467</th>\n      <td>7145002916.14</td>\n      <td>859964399.67</td>\n      <td>33626320676.0</td>\n      <td>4002483657.91</td>\n    </tr>\n    <tr>\n      <th>76077</th>\n      <td>7064942604.89</td>\n      <td>842998667.24</td>\n      <td>33675877202.0</td>\n      <td>3953970636.06</td>\n    </tr>\n    <tr>\n      <th>36909</th>\n      <td>6879694301.95</td>\n      <td>830830181.43</td>\n      <td>33659725664.0</td>\n      <td>3855262241.69</td>\n    </tr>\n  </tbody>\n</table>\n</div>"
     },
     "execution_count": 197,
     "metadata": {},
     "output_type": "execute_result"
    }
   ],
   "source": [
    "top_10_satisfied_customers = satisfaction.nlargest(n=10, columns=[\"satisfaction_score\"])\n",
    "top_10_satisfied_customers"
   ],
   "metadata": {
    "collapsed": false,
    "pycharm": {
     "name": "#%%\n"
    }
   }
  },
  {
   "cell_type": "code",
   "execution_count": 198,
   "outputs": [
    {
     "data": {
      "text/plain": "       eng_score    exp_score  MSISDN/Number  satisfaction_score\n14605   75283.86 826142508.97  33628266642.0        413108896.41\n6784   138124.58 826080034.71  33615493452.0        413109079.65\n39446   96621.08 826148801.92  33660323697.0        413122711.50\n50648   81590.14 826168189.25  33662989316.0        413124889.69\n3299   135513.50 826115252.32  33609965242.0        413125382.91\n73287   92814.48 826162215.81  33670528882.0        413127515.15\n67526  124850.98 826162711.62  33668015916.0        413143781.30\n54736  156616.90 826158686.56  33664036932.0        413157651.73\n76791  149537.59 826166608.44  33677287715.0        413158073.01\n4820   237575.96 826088500.97  33612360452.0        413163038.47",
      "text/html": "<div>\n<style scoped>\n    .dataframe tbody tr th:only-of-type {\n        vertical-align: middle;\n    }\n\n    .dataframe tbody tr th {\n        vertical-align: top;\n    }\n\n    .dataframe thead th {\n        text-align: right;\n    }\n</style>\n<table border=\"1\" class=\"dataframe\">\n  <thead>\n    <tr style=\"text-align: right;\">\n      <th></th>\n      <th>eng_score</th>\n      <th>exp_score</th>\n      <th>MSISDN/Number</th>\n      <th>satisfaction_score</th>\n    </tr>\n  </thead>\n  <tbody>\n    <tr>\n      <th>14605</th>\n      <td>75283.86</td>\n      <td>826142508.97</td>\n      <td>33628266642.0</td>\n      <td>413108896.41</td>\n    </tr>\n    <tr>\n      <th>6784</th>\n      <td>138124.58</td>\n      <td>826080034.71</td>\n      <td>33615493452.0</td>\n      <td>413109079.65</td>\n    </tr>\n    <tr>\n      <th>39446</th>\n      <td>96621.08</td>\n      <td>826148801.92</td>\n      <td>33660323697.0</td>\n      <td>413122711.50</td>\n    </tr>\n    <tr>\n      <th>50648</th>\n      <td>81590.14</td>\n      <td>826168189.25</td>\n      <td>33662989316.0</td>\n      <td>413124889.69</td>\n    </tr>\n    <tr>\n      <th>3299</th>\n      <td>135513.50</td>\n      <td>826115252.32</td>\n      <td>33609965242.0</td>\n      <td>413125382.91</td>\n    </tr>\n    <tr>\n      <th>73287</th>\n      <td>92814.48</td>\n      <td>826162215.81</td>\n      <td>33670528882.0</td>\n      <td>413127515.15</td>\n    </tr>\n    <tr>\n      <th>67526</th>\n      <td>124850.98</td>\n      <td>826162711.62</td>\n      <td>33668015916.0</td>\n      <td>413143781.30</td>\n    </tr>\n    <tr>\n      <th>54736</th>\n      <td>156616.90</td>\n      <td>826158686.56</td>\n      <td>33664036932.0</td>\n      <td>413157651.73</td>\n    </tr>\n    <tr>\n      <th>76791</th>\n      <td>149537.59</td>\n      <td>826166608.44</td>\n      <td>33677287715.0</td>\n      <td>413158073.01</td>\n    </tr>\n    <tr>\n      <th>4820</th>\n      <td>237575.96</td>\n      <td>826088500.97</td>\n      <td>33612360452.0</td>\n      <td>413163038.47</td>\n    </tr>\n  </tbody>\n</table>\n</div>"
     },
     "execution_count": 198,
     "metadata": {},
     "output_type": "execute_result"
    }
   ],
   "source": [
    "top_10_satisfied_customers = satisfaction.nsmallest(n=10, columns=[\"satisfaction_score\"])\n",
    "top_10_satisfied_customers"
   ],
   "metadata": {
    "collapsed": false,
    "pycharm": {
     "name": "#%%\n"
    }
   }
  },
  {
   "cell_type": "code",
   "execution_count": 153,
   "outputs": [
    {
     "data": {
      "text/plain": "<Figure size 1440x720 with 1 Axes>",
      "image/png": "[encoded data removed]"
     },
     "metadata": {},
     "output_type": "display_data"
    }
   ],
   "source": [
    "top_10_satisfied_customers.plot(kind=\"barh\", figsize=(20, 10), x=\"MSISDN/Number\", y=\"satisfaction_score\").invert_yaxis()"
   ],
   "metadata": {
    "collapsed": false,
    "pycharm": {
     "name": "#%%\n"
    }
   }
  },
  {
   "cell_type": "code",
   "execution_count": 154,
   "outputs": [
    {
     "data": {
      "text/plain": "array([1, 0, 1, ..., 0, 1, 0], dtype=int32)"
     },
     "execution_count": 154,
     "metadata": {},
     "output_type": "execute_result"
    }
   ],
   "source": [
    "satisfaction_kmeans = KMeans(n_clusters=2)\n",
    "satisfaction_kmeans.fit_predict(satisfaction[[\"eng_score\", \"exp_score\"]])"
   ],
   "metadata": {
    "collapsed": false,
    "pycharm": {
     "name": "#%%\n"
    }
   }
  },
  {
   "cell_type": "code",
   "execution_count": 155,
   "outputs": [],
   "source": [
    "satisfaction[\"Cluster\"] = satisfaction_kmeans.labels_"
   ],
   "metadata": {
    "collapsed": false,
    "pycharm": {
     "name": "#%%\n"
    }
   }
  },
  {
   "cell_type": "code",
   "execution_count": 156,
   "outputs": [
    {
     "data": {
      "text/plain": "          eng_score    exp_score      MSISDN/Number  satisfaction_score  \\\n0       47203688.08 831771975.42      33601001722.0        439487831.75   \n1      674627249.81 831771952.43      33601001754.0        753199601.12   \n2      235520408.58 831771954.41      33601002511.0        533646181.50   \n3      409166203.40 831487013.76      33601007832.0        620326608.58   \n4      625924060.88 832013331.88      33601008617.0        728968696.38   \n...             ...          ...                ...                 ...   \n106466 116845323.90 831476566.86      33789996170.0        474160945.38   \n106467 351179556.54 831771935.43      33789997247.0        591475745.99   \n106468 599363374.45 831772050.38    3197020876596.0        715567712.41   \n106469 235199094.82 831772018.39  337000037000919.0        533485556.61   \n106470 692333630.50 831772049.38  882397108489451.0        762052839.94   \n\n        Cluster  \n0             1  \n1             0  \n2             1  \n3             1  \n4             0  \n...         ...  \n106466        1  \n106467        1  \n106468        0  \n106469        1  \n106470        0  \n\n[106471 rows x 5 columns]",
      "text/html": "<div>\n<style scoped>\n    .dataframe tbody tr th:only-of-type {\n        vertical-align: middle;\n    }\n\n    .dataframe tbody tr th {\n        vertical-align: top;\n    }\n\n    .dataframe thead th {\n        text-align: right;\n    }\n</style>\n<table border=\"1\" class=\"dataframe\">\n  <thead>\n    <tr style=\"text-align: right;\">\n      <th></th>\n      <th>eng_score</th>\n      <th>exp_score</th>\n      <th>MSISDN/Number</th>\n      <th>satisfaction_score</th>\n      <th>Cluster</th>\n    </tr>\n  </thead>\n  <tbody>\n    <tr>\n      <th>0</th>\n      <td>47203688.08</td>\n      <td>831771975.42</td>\n      <td>33601001722.0</td>\n      <td>439487831.75</td>\n      <td>1</td>\n    </tr>\n    <tr>\n      <th>1</th>\n      <td>674627249.81</td>\n      <td>831771952.43</td>\n      <td>33601001754.0</td>\n      <td>753199601.12</td>\n      <td>0</td>\n    </tr>\n    <tr>\n      <th>2</th>\n      <td>235520408.58</td>\n      <td>831771954.41</td>\n      <td>33601002511.0</td>\n      <td>533646181.50</td>\n      <td>1</td>\n    </tr>\n    <tr>\n      <th>3</th>\n      <td>409166203.40</td>\n      <td>831487013.76</td>\n      <td>33601007832.0</td>\n      <td>620326608.58</td>\n      <td>1</td>\n    </tr>\n    <tr>\n      <th>4</th>\n      <td>625924060.88</td>\n      <td>832013331.88</td>\n      <td>33601008617.0</td>\n      <td>728968696.38</td>\n      <td>0</td>\n    </tr>\n    <tr>\n      <th>...</th>\n      <td>...</td>\n      <td>...</td>\n      <td>...</td>\n      <td>...</td>\n      <td>...</td>\n    </tr>\n    <tr>\n      <th>106466</th>\n      <td>116845323.90</td>\n      <td>831476566.86</td>\n      <td>33789996170.0</td>\n      <td>474160945.38</td>\n      <td>1</td>\n    </tr>\n    <tr>\n      <th>106467</th>\n      <td>351179556.54</td>\n      <td>831771935.43</td>\n      <td>33789997247.0</td>\n      <td>591475745.99</td>\n      <td>1</td>\n    </tr>\n    <tr>\n      <th>106468</th>\n      <td>599363374.45</td>\n      <td>831772050.38</td>\n      <td>3197020876596.0</td>\n      <td>715567712.41</td>\n      <td>0</td>\n    </tr>\n    <tr>\n      <th>106469</th>\n      <td>235199094.82</td>\n      <td>831772018.39</td>\n      <td>337000037000919.0</td>\n      <td>533485556.61</td>\n      <td>1</td>\n    </tr>\n    <tr>\n      <th>106470</th>\n      <td>692333630.50</td>\n      <td>831772049.38</td>\n      <td>882397108489451.0</td>\n      <td>762052839.94</td>\n      <td>0</td>\n    </tr>\n  </tbody>\n</table>\n<p>106471 rows × 5 columns</p>\n</div>"
     },
     "execution_count": 156,
     "metadata": {},
     "output_type": "execute_result"
    }
   ],
   "source": [
    "satisfaction"
   ],
   "metadata": {
    "collapsed": false,
    "pycharm": {
     "name": "#%%\n"
    }
   }
  },
  {
   "cell_type": "code",
   "execution_count": 157,
   "outputs": [],
   "source": [
    "satisfation_agg = satisfaction.groupby(by=\"Cluster\").agg({\"eng_score\": \"sum\", \"exp_score\": \"sum\"})"
   ],
   "metadata": {
    "collapsed": false,
    "pycharm": {
     "name": "#%%\n"
    }
   }
  },
  {
   "cell_type": "code",
   "execution_count": 158,
   "outputs": [
    {
     "data": {
      "text/plain": "                eng_score         exp_score\nCluster                                    \n0       27976435631778.71 33913941544090.95\n1       12962371326374.84 55290351344159.85",
      "text/html": "<div>\n<style scoped>\n    .dataframe tbody tr th:only-of-type {\n        vertical-align: middle;\n    }\n\n    .dataframe tbody tr th {\n        vertical-align: top;\n    }\n\n    .dataframe thead th {\n        text-align: right;\n    }\n</style>\n<table border=\"1\" class=\"dataframe\">\n  <thead>\n    <tr style=\"text-align: right;\">\n      <th></th>\n      <th>eng_score</th>\n      <th>exp_score</th>\n    </tr>\n    <tr>\n      <th>Cluster</th>\n      <th></th>\n      <th></th>\n    </tr>\n  </thead>\n  <tbody>\n    <tr>\n      <th>0</th>\n      <td>27976435631778.71</td>\n      <td>33913941544090.95</td>\n    </tr>\n    <tr>\n      <th>1</th>\n      <td>12962371326374.84</td>\n      <td>55290351344159.85</td>\n    </tr>\n  </tbody>\n</table>\n</div>"
     },
     "execution_count": 158,
     "metadata": {},
     "output_type": "execute_result"
    }
   ],
   "source": [
    "satisfation_agg"
   ],
   "metadata": {
    "collapsed": false,
    "pycharm": {
     "name": "#%%\n"
    }
   }
  },
  {
   "cell_type": "code",
   "execution_count": 159,
   "outputs": [],
   "source": [
    "final_table = satisfaction[[\"MSISDN/Number\", \"eng_score\", \"exp_score\", \"satisfaction_score\"]]"
   ],
   "metadata": {
    "collapsed": false,
    "pycharm": {
     "name": "#%%\n"
    }
   }
  },
  {
   "cell_type": "code",
   "execution_count": 160,
   "outputs": [
    {
     "data": {
      "text/plain": "            MSISDN/Number    eng_score    exp_score  satisfaction_score\n0           33601001722.0  47203688.08 831771975.42        439487831.75\n1           33601001754.0 674627249.81 831771952.43        753199601.12\n2           33601002511.0 235520408.58 831771954.41        533646181.50\n3           33601007832.0 409166203.40 831487013.76        620326608.58\n4           33601008617.0 625924060.88 832013331.88        728968696.38\n...                   ...          ...          ...                 ...\n106466      33789996170.0 116845323.90 831476566.86        474160945.38\n106467      33789997247.0 351179556.54 831771935.43        591475745.99\n106468    3197020876596.0 599363374.45 831772050.38        715567712.41\n106469  337000037000919.0 235199094.82 831772018.39        533485556.61\n106470  882397108489451.0 692333630.50 831772049.38        762052839.94\n\n[106471 rows x 4 columns]",
      "text/html": "<div>\n<style scoped>\n    .dataframe tbody tr th:only-of-type {\n        vertical-align: middle;\n    }\n\n    .dataframe tbody tr th {\n        vertical-align: top;\n    }\n\n    .dataframe thead th {\n        text-align: right;\n    }\n</style>\n<table border=\"1\" class=\"dataframe\">\n  <thead>\n    <tr style=\"text-align: right;\">\n      <th></th>\n      <th>MSISDN/Number</th>\n      <th>eng_score</th>\n      <th>exp_score</th>\n      <th>satisfaction_score</th>\n    </tr>\n  </thead>\n  <tbody>\n    <tr>\n      <th>0</th>\n      <td>33601001722.0</td>\n      <td>47203688.08</td>\n      <td>831771975.42</td>\n      <td>439487831.75</td>\n    </tr>\n    <tr>\n      <th>1</th>\n      <td>33601001754.0</td>\n      <td>674627249.81</td>\n      <td>831771952.43</td>\n      <td>753199601.12</td>\n    </tr>\n    <tr>\n      <th>2</th>\n      <td>33601002511.0</td>\n      <td>235520408.58</td>\n      <td>831771954.41</td>\n      <td>533646181.50</td>\n    </tr>\n    <tr>\n      <th>3</th>\n      <td>33601007832.0</td>\n      <td>409166203.40</td>\n      <td>831487013.76</td>\n      <td>620326608.58</td>\n    </tr>\n    <tr>\n      <th>4</th>\n      <td>33601008617.0</td>\n      <td>625924060.88</td>\n      <td>832013331.88</td>\n      <td>728968696.38</td>\n    </tr>\n    <tr>\n      <th>...</th>\n      <td>...</td>\n      <td>...</td>\n      <td>...</td>\n      <td>...</td>\n    </tr>\n    <tr>\n      <th>106466</th>\n      <td>33789996170.0</td>\n      <td>116845323.90</td>\n      <td>831476566.86</td>\n      <td>474160945.38</td>\n    </tr>\n    <tr>\n      <th>106467</th>\n      <td>33789997247.0</td>\n      <td>351179556.54</td>\n      <td>831771935.43</td>\n      <td>591475745.99</td>\n    </tr>\n    <tr>\n      <th>106468</th>\n      <td>3197020876596.0</td>\n      <td>599363374.45</td>\n      <td>831772050.38</td>\n      <td>715567712.41</td>\n    </tr>\n    <tr>\n      <th>106469</th>\n      <td>337000037000919.0</td>\n      <td>235199094.82</td>\n      <td>831772018.39</td>\n      <td>533485556.61</td>\n    </tr>\n    <tr>\n      <th>106470</th>\n      <td>882397108489451.0</td>\n      <td>692333630.50</td>\n      <td>831772049.38</td>\n      <td>762052839.94</td>\n    </tr>\n  </tbody>\n</table>\n<p>106471 rows × 4 columns</p>\n</div>"
     },
     "execution_count": 160,
     "metadata": {},
     "output_type": "execute_result"
    }
   ],
   "source": [
    "final_table"
   ],
   "metadata": {
    "collapsed": false,
    "pycharm": {
     "name": "#%%\n"
    }
   }
  },
  {
   "cell_type": "code",
   "execution_count": null,
   "outputs": [],
   "source": [],
   "metadata": {
    "collapsed": false,
    "pycharm": {
     "name": "#%%\n"
    }
   }
  }
 ],
 "metadata": {
  "interpreter": {
   "hash": "63fd5069d213b44bf678585dea6b12cceca9941eaf7f819626cde1f2670de90d"
  },
  "kernelspec": {
   "display_name": "Python 3.9.6 64-bit",
   "language": "python",
   "name": "python3"
  },
  "language_info": {
   "codemirror_mode": {
    "name": "ipython",
    "version": 3
   },
   "file_extension": ".py",
   "mimetype": "text/x-python",
   "name": "python",
   "nbconvert_exporter": "python",
   "pygments_lexer": "ipython3",
   "version": "3.9.6"
  },
  "orig_nbformat": 4
 },
 "nbformat": 4,
 "nbformat_minor": 2
}